{
 "cells": [
  {
   "cell_type": "markdown",
   "metadata": {},
   "source": [
    "## 6. 学习时长及付费"
   ]
  },
  {
   "cell_type": "markdown",
   "metadata": {},
   "source": [
    "### XUE.cn 收费吗？为什么？\n",
    "<a id='q5'></a>"
   ]
  },
  {
   "cell_type": "markdown",
   "metadata": {},
   "source": [
    "XUE.cn 是收费服务项目。"
   ]
  },
  {
   "cell_type": "markdown",
   "metadata": {},
   "source": [
    "▷ XUE.cn 与众不同的地方在于它的可交互学习环境，而支撑这一切的，正是 XUE.cn 的云计算服务——XUE 服务。XUE 服务为每一位付费用户分配独立的容器、运行环境与云计算资源，从而让一本晦涩的平面书变得生动、可交互，让学习的过程更加充满乐趣。"
   ]
  },
  {
   "cell_type": "markdown",
   "metadata": {},
   "source": [
    "▷ 您付费订阅的正是维持 XUE 服务可交互学习环境所需要的云服务资源，我们也会继续围绕核心功能来提供一系列新的增值服务，来帮助您提升学习的效率与质量。"
   ]
  },
  {
   "cell_type": "markdown",
   "metadata": {},
   "source": [
    "### XUE 服务是如何计费的？\n",
    "<a id='q34'></a>"
   ]
  },
  {
   "cell_type": "markdown",
   "metadata": {},
   "source": [
    "XUE 服务目前已经支持付费订阅的「基础套餐」，含可交互式学习环境、独立容器、优享资源价格等服务。"
   ]
  },
  {
   "cell_type": "markdown",
   "metadata": {},
   "source": [
    "以基础套餐为例，每月 30 元兑换 30 unit (简称 u) 的学习时长。当前的 XUE 云服务，单价是 1 unit/天，即每使用 1 天，将会自动扣除一个 U 的学习时长，并以[账单形式](https://xue.cn/hub/app/orders)呈现给您。"
   ]
  },
  {
   "cell_type": "markdown",
   "metadata": {},
   "source": [
    "之后会开放深度学习等高级套餐。"
   ]
  },
  {
   "cell_type": "markdown",
   "metadata": {},
   "source": [
    "### 购买了学习时长，能够享受到具体哪些服务？\n",
    "<a id='q37'></a>"
   ]
  },
  {
   "cell_type": "markdown",
   "metadata": {},
   "source": [
    "▷ **互动式学习环境：**"
   ]
  },
  {
   "cell_type": "markdown",
   "metadata": {},
   "source": [
    "基于 Jupyter Lab 技术深度定制的可交互阅读环境，无需单独安装运行环境，打开网页就可以边学边写，即时运行代码得出结果；"
   ]
  },
  {
   "cell_type": "markdown",
   "metadata": {},
   "source": [
    "▷ **即时交流：**"
   ]
  },
  {
   "cell_type": "markdown",
   "metadata": {},
   "source": [
    "三人行必有我师，学习中有疑惑、代码无法运行等，都可以立即在学习群中向其他人请教（包括作者）；"
   ]
  },
  {
   "cell_type": "markdown",
   "metadata": {},
   "source": [
    "▷ **习题：**"
   ]
  },
  {
   "cell_type": "markdown",
   "metadata": {},
   "source": [
    "您可以通过做题来检验对所学内容的掌握程度，巩固所学知识，深化对知识的理解，在做题过程中碰到困难需要帮助，可以去学习群向大家求助，或者发起习题讨论；"
   ]
  },
  {
   "cell_type": "markdown",
   "metadata": {},
   "source": [
    "▷ **互动讨论：**"
   ]
  },
  {
   "cell_type": "markdown",
   "metadata": {},
   "source": [
    "在阅读中有了新的想法或者疑惑，可以在章节下面发起讨论，与大家一起交流，在习题答题中碰到困难，也同样可以在习题下发起讨论求助或分享解题思路；"
   ]
  },
  {
   "cell_type": "markdown",
   "metadata": {},
   "source": [
    "▷ **学习中心：**"
   ]
  },
  {
   "cell_type": "markdown",
   "metadata": {},
   "source": [
    "用户学习中心记录您在平台的学习成长轨迹，动态和学习报告会详尽反馈您的学习状况；"
   ]
  },
  {
   "cell_type": "markdown",
   "metadata": {},
   "source": [
    "▷ **计划打卡与学习心得：**"
   ]
  },
  {
   "cell_type": "markdown",
   "metadata": {},
   "source": [
    "根据计划每日打卡并记录学习心得；"
   ]
  },
  {
   "cell_type": "markdown",
   "metadata": {},
   "source": [
    "XUE.cn 还在不断的更新迭代，随时都可能上线更有趣的功能，更多精彩期待您的发现。"
   ]
  },
  {
   "cell_type": "markdown",
   "metadata": {},
   "source": [
    "### 学力值怎么兑换成学习时长？\n",
    "<a id='q42'></a>"
   ]
  },
  {
   "cell_type": "markdown",
   "metadata": {},
   "source": [
    "登入后访问 用户菜单 - [我的学力值](https://xue.cn/hub/app/point) 页面，即可消耗学力值，兑换学习时长。"
   ]
  },
  {
   "cell_type": "markdown",
   "metadata": {},
   "source": [
    "注：120 pt 学力值可兑换 1U 时长，每周最多只能兑 10U 时长， 每次最少兑换 3U，也就是说，学力值最少要达到 360pt，才能参与兑换时长。"
   ]
  },
  {
   "cell_type": "markdown",
   "metadata": {},
   "source": [
    "**相关问题**：[什么是学力值？学力值怎么获得？学力值可以干什么？](4. 产品功能.ipynb?anchor=q15)"
   ]
  },
  {
   "cell_type": "markdown",
   "metadata": {},
   "source": [
    "### XUE.cn 账户怎么充值？\n",
    "<a id='q43'></a>"
   ]
  },
  {
   "cell_type": "markdown",
   "metadata": {},
   "source": [
    "▷ 订购 XUE 服务套餐："
   ]
  },
  {
   "cell_type": "markdown",
   "metadata": {},
   "source": [
    "详见：[[XUE.cn 账户怎么购买 XUE 服务？](#44)"
   ]
  },
  {
   "cell_type": "markdown",
   "metadata": {},
   "source": [
    "▷ 购买礼品卡充值"
   ]
  },
  {
   "cell_type": "markdown",
   "metadata": {},
   "source": [
    "详见：[怎样购买礼品卡并充值？](#45)"
   ]
  },
  {
   "cell_type": "markdown",
   "metadata": {},
   "source": [
    "▷ 兑换码兑换时长"
   ]
  },
  {
   "cell_type": "markdown",
   "metadata": {},
   "source": [
    "详见：[时长兑换码怎么兑换？](#46)"
   ]
  },
  {
   "cell_type": "markdown",
   "metadata": {},
   "source": [
    "▷ 学力值兑换"
   ]
  },
  {
   "cell_type": "markdown",
   "metadata": {},
   "source": [
    "详见：学力值怎么兑换成学习时长？](#42)"
   ]
  },
  {
   "cell_type": "markdown",
   "metadata": {},
   "source": [
    "**相关问题**：[购买了学习时长，能够享受到具体哪些服务？](#q37)"
   ]
  },
  {
   "cell_type": "markdown",
   "metadata": {},
   "source": [
    "### 怎样购买礼品卡并充值？\n",
    "<a id='q45'></a>"
   ]
  },
  {
   "cell_type": "markdown",
   "metadata": {},
   "source": [
    "web 端（电脑网页登录）"
   ]
  },
  {
   "cell_type": "markdown",
   "metadata": {},
   "source": [
    "登录 xue.cn 后，点击右上角的隐藏菜单栏，在“学习中心”或“我的学力值”左侧下方点击“时长兑换礼品卡”，进入“套餐价格”页面，在页面下方的“时长礼品卡”上点击“购买”键（见下图），出现四张可以选择的卡片，选择自己喜欢的卡片，点击“下一步”，选择自己需要的时长，不同的时长会有不同的优惠，然后点击“下一步”，微信扫描二维码付款，拿到时长兑换码兑换即可。"
   ]
  },
  {
   "cell_type": "markdown",
   "metadata": {},
   "source": [
    "<img width=\"934\" height=\"975\" src=\"https://user-images.githubusercontent.com/31980259/85365042-1bb74800-b557-11ea-853a-508aa3a3e56a.png\" />"
   ]
  },
  {
   "cell_type": "markdown",
   "metadata": {},
   "source": [
    "注："
   ]
  },
  {
   "cell_type": "markdown",
   "metadata": {},
   "source": [
    "礼品卡自用还可以送人，相对于 XUE 服务套餐有一定的优惠："
   ]
  },
  {
   "cell_type": "markdown",
   "metadata": {},
   "source": [
    "购买 3 个月面值礼品卡，另送 15U 兑换码；"
   ]
  },
  {
   "cell_type": "markdown",
   "metadata": {},
   "source": [
    "购买半年面值礼品卡，另送 35U 兑换码；"
   ]
  },
  {
   "cell_type": "markdown",
   "metadata": {},
   "source": [
    "购买一年面值礼品卡，另送 90U 兑换码。"
   ]
  },
  {
   "cell_type": "markdown",
   "metadata": {},
   "source": [
    "App 端"
   ]
  },
  {
   "cell_type": "markdown",
   "metadata": {},
   "source": [
    "暂时还无法购买礼品卡。"
   ]
  },
  {
   "cell_type": "markdown",
   "metadata": {},
   "source": [
    "**相关问题**：[什么是时长兑换码（赠送时长）？怎么获取兑时长兑换码？](#q9)"
   ]
  },
  {
   "cell_type": "markdown",
   "metadata": {},
   "source": [
    "### 时长兑换码怎么兑换？\n",
    "<a id='q46'></a>"
   ]
  },
  {
   "cell_type": "markdown",
   "metadata": {},
   "source": [
    "web 端（电脑网页登录）"
   ]
  },
  {
   "cell_type": "markdown",
   "metadata": {},
   "source": [
    "登录 xue.cn 后，点击右上角的隐藏菜单栏，点击“兑换时长/礼品卡”,进入兑换页面，输入自己获得的兑换码，即可兑换成功。"
   ]
  },
  {
   "cell_type": "markdown",
   "metadata": {},
   "source": [
    "App 端"
   ]
  },
  {
   "cell_type": "markdown",
   "metadata": {},
   "source": [
    "IOS 设备：暂时还无法兑换时长码；"
   ]
  },
  {
   "cell_type": "markdown",
   "metadata": {},
   "source": [
    "Android 设备：进入 App， 在“我的”中点击“兑换时长”，其他操作同 web 端。"
   ]
  },
  {
   "cell_type": "markdown",
   "metadata": {},
   "source": [
    "**相关问题**：[什么是时长兑换码（赠送时长）？怎么获取兑时长兑换码？](#q9)"
   ]
  },
  {
   "cell_type": "markdown",
   "metadata": {},
   "source": [
    "### 什么是时长兑换码（赠送时长）？怎么获取兑时长兑换码？\n",
    "<a id='q9'></a>"
   ]
  },
  {
   "cell_type": "markdown",
   "metadata": {},
   "source": [
    "时长兑换码是由一组字母和数字组成的号码。"
   ]
  },
  {
   "cell_type": "markdown",
   "metadata": {},
   "source": [
    "可以访问“[我的时长及订单](https://xue.cn/hub/app/orders)”页找到“兑换时长（含礼品卡）”，输入兑换码获取学习时长（简称 u），每个兑换码只能兑换一次，兑换成功后该兑换码即刻失效，可在“我的兑换码”页查看你的兑换码。"
   ]
  },
  {
   "cell_type": "markdown",
   "metadata": {},
   "source": [
    "获取时长兑换码的方式：购买“礼品卡”，将获得额外的时长兑换码，礼品卡可自用也可作为礼物送给他人。"
   ]
  },
  {
   "cell_type": "markdown",
   "metadata": {},
   "source": [
    "### 我一旦充了值，就会开始消耗学习时长 Unit 吗？\n",
    "<a id='q13'></a>"
   ]
  },
  {
   "cell_type": "markdown",
   "metadata": {},
   "source": [
    "一旦您获得学习时长（unit，简写 u），就会自动开启 XUE.cn 的付费服务，系统将阅读容器服务、计算资源等分配给您，直到您的学习时长耗尽。"
   ]
  },
  {
   "cell_type": "markdown",
   "metadata": {},
   "source": [
    "建议您一旦决定开始学习，就持续学习下去，让每天所消耗的学习时长被自己充分使用。"
   ]
  },
  {
   "cell_type": "markdown",
   "metadata": {},
   "source": [
    "如果想要立即充值，但又不想立即被扣学习时长，建议购买礼品卡，等开始学习时再把礼品卡兑换为学习时长。"
   ]
  },
  {
   "cell_type": "markdown",
   "metadata": {},
   "source": [
    "**相关问题**：[我几天没有上线，学习时长（unit）变少了，是 bug 吗？](8. 异常排查.ipynb?anchor=q12)"
   ]
  },
  {
   "cell_type": "markdown",
   "metadata": {},
   "source": [
    "### 学习时长 Unit，到底是什么？\n",
    "<a id='q14'></a>"
   ]
  },
  {
   "cell_type": "markdown",
   "metadata": {},
   "source": [
    "学习时长（unit，简写 u）是 xue.cn 的一种计费单位。"
   ]
  },
  {
   "cell_type": "markdown",
   "metadata": {},
   "source": [
    "您可以免费使用 xue.cn，并享有："
   ]
  },
  {
   "cell_type": "markdown",
   "metadata": {},
   "source": [
    "- 可交互式学习环境（不支持代码运行）"
   ]
  },
  {
   "cell_type": "markdown",
   "metadata": {},
   "source": [
    "- 免费学习内容或非免费内容的试读"
   ]
  },
  {
   "cell_type": "markdown",
   "metadata": {},
   "source": [
    "- 积累学力值，可兑换时长"
   ]
  },
  {
   "cell_type": "markdown",
   "metadata": {},
   "source": [
    "- 不限量习题（不支持代码运行及保存）"
   ]
  },
  {
   "cell_type": "markdown",
   "metadata": {},
   "source": [
    "- 学习心得、打卡、书摘笔记等自学工具"
   ]
  },
  {
   "cell_type": "markdown",
   "metadata": {},
   "source": [
    "您可以订阅我们的基础套餐，解锁更多功能："
   ]
  },
  {
   "cell_type": "markdown",
   "metadata": {},
   "source": [
    "- 可交互式学习环境（可编辑/运行代码）"
   ]
  },
  {
   "cell_type": "markdown",
   "metadata": {},
   "source": [
    "- 独立容器，代码运行更快更稳定，1 U /天"
   ]
  },
  {
   "cell_type": "markdown",
   "metadata": {},
   "source": [
    "- 所有免费/付费学习内容随心看，不断更新中"
   ]
  },
  {
   "cell_type": "markdown",
   "metadata": {},
   "source": [
    "- 积累学力值，可兑换时长"
   ]
  },
  {
   "cell_type": "markdown",
   "metadata": {},
   "source": [
    "- 不限量习题和挑战答题"
   ]
  },
  {
   "cell_type": "markdown",
   "metadata": {},
   "source": [
    "- 学习心得、打卡、书摘笔记、自学攻略等自学工具"
   ]
  },
  {
   "cell_type": "markdown",
   "metadata": {},
   "source": [
    "- 移动客户端的全部功能"
   ]
  },
  {
   "cell_type": "markdown",
   "metadata": {},
   "source": [
    "**相关问题**：[XUE 服务是如何计费的？](#q34)"
   ]
  }
 ],
 "metadata": {
  "kernelspec": {
   "display_name": "Python 3",
   "language": "python",
   "name": "python3"
  },
  "language_info": {
   "codemirror_mode": {
    "name": "ipython",
    "version": 3
   },
   "file_extension": ".py",
   "mimetype": "text/x-python",
   "name": "python",
   "nbconvert_exporter": "python",
   "pygments_lexer": "ipython3",
   "version": "3.7.3"
  }
 },
 "nbformat": 4,
 "nbformat_minor": 2
}