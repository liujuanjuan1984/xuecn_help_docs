{
 "cells": [
  {
   "cell_type": "markdown",
   "metadata": {},
   "source": [
    "## 3. 学习内容"
   ]
  },
  {
   "cell_type": "markdown",
   "metadata": {},
   "source": [
    "### XUE.cn 接收内容投稿吗？\n",
    "<a id='q23'></a>"
   ]
  },
  {
   "cell_type": "markdown",
   "metadata": {},
   "source": [
    "我们欢迎书籍、用户自学故事、答题笔记、习题等不同量级的内容投稿。如果您不是作者，也可以向我们推荐优质内容。"
   ]
  },
  {
   "cell_type": "markdown",
   "metadata": {},
   "source": [
    "如果您有意参与内容贡献，请您联系我们的工作人员（微信号 xue_oneone 或 cgq144）洽谈。"
   ]
  },
  {
   "cell_type": "markdown",
   "metadata": {},
   "source": [
    "### XUE.cn 支持哪些编程语言的学习？\n",
    "<a id='q11'></a>"
   ]
  },
  {
   "cell_type": "markdown",
   "metadata": {},
   "source": [
    "xue.cn 目前已上架 60 余本书，涵盖 Python、JavaScript、NodeJS、Jave、Go、Markdown 等编程语言。"
   ]
  },
  {
   "cell_type": "markdown",
   "metadata": {},
   "source": [
    "对于初学编程者，我们推荐 Python，它有着强大的社区支持，丰富的库函数，语言本身简单直接，贴近自然语言。"
   ]
  },
  {
   "cell_type": "markdown",
   "metadata": {},
   "source": [
    "### XUE.cn 支持哪些编程语言在线直接运行？\n",
    "<a id='q30'></a>"
   ]
  },
  {
   "cell_type": "markdown",
   "metadata": {},
   "source": [
    "我们的内核目前已支持 Python 和 JavaScript、NodeJS 的代码直接运行；后续会陆续增加支持更多编程语言在线编译运行。"
   ]
  },
  {
   "cell_type": "markdown",
   "metadata": {},
   "source": [
    "### 未来会有更多学习内容吗？\n",
    "<a id='q29'></a>"
   ]
  },
  {
   "cell_type": "markdown",
   "metadata": {},
   "source": [
    "会有更多。"
   ]
  },
  {
   "cell_type": "markdown",
   "metadata": {},
   "source": [
    "Read，Practice，Build。学习编程除了能学到新的思维模式，同学们应该更希望能够在实际生活中用到这项技能。数据分析、数据呈现、区块链 DAPP，很多领域的知识都会用到编程技能，因此 XUE.cn 也会提供更多领域的学习内容。用户可以一边学编程，一边学编程的应用，用来解决实际问题。欢迎大家联系工作人员（微信号 xue_oneone 或 cgq144）推荐自己期望增加支持的编程语言或书籍课程。"
   ]
  }
 ],
 "metadata": {
  "kernelspec": {
   "display_name": "Python 3",
   "language": "python",
   "name": "python3"
  },
  "language_info": {
   "codemirror_mode": {
    "name": "ipython",
    "version": 3
   },
   "file_extension": ".py",
   "mimetype": "text/x-python",
   "name": "python",
   "nbconvert_exporter": "python",
   "pygments_lexer": "ipython3",
   "version": "3.7.3"
  }
 },
 "nbformat": 4,
 "nbformat_minor": 2
}