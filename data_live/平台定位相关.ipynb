{
 "cells": [
  {
   "cell_type": "markdown",
   "metadata": {},
   "source": [
    "## 平台定位相关"
   ]
  },
  {
   "cell_type": "markdown",
   "metadata": {},
   "source": [
    "### 《自学是门手艺》和 XUE.cn 是什么关系？\n",
    "<a id='q4'></a>"
   ]
  },
  {
   "cell_type": "markdown",
   "metadata": {},
   "source": [
    "李笑来所著[《自学是门手艺》](https://xue.cn/hub/app/books/1)这本书是 XUE.cn 上的第一份也是当下最热门的学习材料，而 xue.cn 则是[《自学是门手艺》](https://xue.cn/hub/app/books/1)这本书的“在线可执行版”，是其教育思想、自学方法论的产品化表现。可以说，XUE.cn 这款产品的诞生，源于[《自学是门手艺》](https://xue.cn/hub/app/books/1)。"
   ]
  },
  {
   "cell_type": "markdown",
   "metadata": {},
   "source": [
    "### XUE.cn 是什么？\n",
    "<a id='q1'></a>"
   ]
  },
  {
   "cell_type": "markdown",
   "metadata": {},
   "source": [
    "XUE.cn 是互动式学习平台，基于 Jupyter Lab 搭建的云端学习环境。"
   ]
  },
  {
   "cell_type": "markdown",
   "metadata": {},
   "source": [
    "通过电脑、手机和平板，你可以在上面阅读各种技术内容，与作者的代码互动，随时随地编写、修改、运行代码，完成练习并参与讨论，让编程学习一触即达。"
   ]
  },
  {
   "cell_type": "markdown",
   "metadata": {},
   "source": [
    "### 为什么选择 XUE.cn？\n",
    "<a id='q33'></a>"
   ]
  },
  {
   "cell_type": "markdown",
   "metadata": {},
   "source": [
    "▷ XUE.cn 是一个互动式学习平台，针对编程类内容提供可交互的学习环境。你可以在上面阅读各种收费或免费的内容，也可以在阅读界面上直接编辑并运行文中代码。"
   ]
  },
  {
   "cell_type": "markdown",
   "metadata": {},
   "source": [
    "▷ 大部分编程初学者会遇到的第一个难以逾越的障碍，就是在自己的计算机上部署一套可以让代码运行起来的环境，查看自己写下的代码能否运行出什么结果。而在 XUE.cn 上学习编程，你可以直接在浏览器上的阅读界面或 App 里与作者的代码互动，尝试修改作者给出的代码范例或编写自己的代码并立刻执行来验证结果，让编程学习及练习能随时随地进行。"
   ]
  },
  {
   "cell_type": "markdown",
   "metadata": {},
   "source": [
    "▷ 除了提供阅读中的代码互动，XUE.cn 还将针对编程学习场景提供习题、讨论、问答、学习小组、打卡、成就管理等一系列丰富的互动和社交功能，打破编程学习中障碍，让你可以更高效的进行学习。书中的代码你都可以即时运行，验证结果；你有自己的想法，也可以立刻动手写下代码，以实践出真知；你在学习的过程中有了疑惑，可以在学习群中向作者或者同样在学习这本书的同学们提出问题，获得解答......"
   ]
  },
  {
   "cell_type": "markdown",
   "metadata": {},
   "source": [
    "**相关问题**：[XUE.cn 是什么？](#q1)"
   ]
  },
  {
   "cell_type": "markdown",
   "metadata": {},
   "source": [
    "### 现在能在 XUE.cn 做什么？\n",
    "<a id='q2'></a>"
   ]
  },
  {
   "cell_type": "markdown",
   "metadata": {},
   "source": [
    "现在能在 XUE.cn："
   ]
  },
  {
   "cell_type": "markdown",
   "metadata": {},
   "source": [
    "▷ “一行代码胜千言”——在阅读界面上即时运行所有代码；"
   ]
  },
  {
   "cell_type": "markdown",
   "metadata": {},
   "source": [
    "▷ “动手出真知”——修改作者给出的代码范例，立刻执行看结果；"
   ]
  },
  {
   "cell_type": "markdown",
   "metadata": {},
   "source": [
    "▷ “试错中前进”——阅读学习过程中随时尝试你的任何“猜想”；"
   ]
  },
  {
   "cell_type": "markdown",
   "metadata": {},
   "source": [
    "▷ “三人行必有我师”——进学习群，组成学习计划和互助小组，与作者或其它学习者实时讨论或提问；"
   ]
  },
  {
   "cell_type": "markdown",
   "metadata": {},
   "source": [
    "▷ “学而不思则罔”——根据计划每日打卡并记录学习心得；"
   ]
  },
  {
   "cell_type": "markdown",
   "metadata": {},
   "source": [
    "▷ “努力终有回报“——推出成就系统，鼓励学习者坚持阅读、勤奋练习、分享知识、通过学力值免费兑换学习时长等行为获得免费学习的机会。"
   ]
  },
  {
   "cell_type": "markdown",
   "metadata": {},
   "source": [
    "### XUE.cn 还将提供什么？\n",
    "<a id='q3'></a>"
   ]
  },
  {
   "cell_type": "markdown",
   "metadata": {},
   "source": [
    "XUE.cn 还将提供："
   ]
  },
  {
   "cell_type": "markdown",
   "metadata": {},
   "source": [
    "▷ 更多可动手实践的习题与知识点测验；"
   ]
  },
  {
   "cell_type": "markdown",
   "metadata": {},
   "source": [
    "▷ 围绕章节或知识点展开的问答与讨论；"
   ]
  },
  {
   "cell_type": "markdown",
   "metadata": {},
   "source": [
    "▷ 社区参与贡献的学习攻略；"
   ]
  },
  {
   "cell_type": "markdown",
   "metadata": {},
   "source": [
    "▷ 管理分享个人 .ipynb 文档；"
   ]
  },
  {
   "cell_type": "markdown",
   "metadata": {},
   "source": [
    "▷ 上链的微学历系统，让你在职场更有竞争力；"
   ]
  },
  {
   "cell_type": "markdown",
   "metadata": {},
   "source": [
    "▷ ......"
   ]
  },
  {
   "cell_type": "markdown",
   "metadata": {},
   "source": [
    "### XUE.cn 收费吗？为什么？\n",
    "<a id='q5'></a>"
   ]
  },
  {
   "cell_type": "markdown",
   "metadata": {},
   "source": [
    "XUE.cn 是收费服务项目。"
   ]
  },
  {
   "cell_type": "markdown",
   "metadata": {},
   "source": [
    "▷ XUE.cn 与众不同的地方在于它的可交互学习环境，而支撑这一切的，正是 XUE.cn 的云计算服务——XUE 服务。XUE 服务为每一位付费用户分配独立的容器、运行环境与云计算资源，从而让一本晦涩的平面书变得生动、可交互，让学习的过程更加充满乐趣。"
   ]
  },
  {
   "cell_type": "markdown",
   "metadata": {},
   "source": [
    "▷ 您付费订阅的正是维持 XUE 服务可交互学习环境所需要的云服务资源，我们也会继续围绕核心功能来提供一系列新的增值服务，来帮助您提升学习的效率与质量。"
   ]
  }
 ],
 "metadata": {
  "kernelspec": {
   "display_name": "Python 3",
   "language": "python",
   "name": "python3"
  },
  "language_info": {
   "codemirror_mode": {
    "name": "ipython",
    "version": 3
   },
   "file_extension": ".py",
   "mimetype": "text/x-python",
   "name": "python",
   "nbconvert_exporter": "python",
   "pygments_lexer": "ipython3",
   "version": "3.7.4"
  }
 },
 "nbformat": 4,
 "nbformat_minor": 2
}