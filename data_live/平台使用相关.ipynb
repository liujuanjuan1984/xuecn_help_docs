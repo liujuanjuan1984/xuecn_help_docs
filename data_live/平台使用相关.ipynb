{
 "cells": [
  {
   "cell_type": "markdown",
   "metadata": {},
   "source": [
    "## 平台使用相关"
   ]
  },
  {
   "cell_type": "markdown",
   "metadata": {},
   "source": [
    "### 我几天都没有上线为什么还是消耗了学习资源 Unit？\n",
    "<a id='q12'></a>"
   ]
  },
  {
   "cell_type": "markdown",
   "metadata": {},
   "source": [
    "XUE.cn 的学习服务一旦开始，系统就会将阅读容器服务、计算资源等进行分配，直到用户的学习资源 U 耗尽。当然，如果您充值之后并没有开始学习，系统是不会分配资源开始计费的。"
   ]
  },
  {
   "cell_type": "markdown",
   "metadata": {},
   "source": [
    "### XUE.cn 有试学功能吗？\n",
    "<a id='q7'></a>"
   ]
  },
  {
   "cell_type": "markdown",
   "metadata": {},
   "source": [
    "XUE.cn 目前已经上线免费体验功能，可以免费的阅读书籍，但大部分消耗计算资源的交互功能需要充值后才能开通。"
   ]
  },
  {
   "cell_type": "markdown",
   "metadata": {},
   "source": [
    "### 我一旦充了值就会开始消耗学习资源 Unit 吗？\n",
    "<a id='q13'></a>"
   ]
  },
  {
   "cell_type": "markdown",
   "metadata": {},
   "source": [
    "不会。学习资源的消耗是从您开始使用学习服务起计算的。当前 XUE.cn 的学习服务就是书本的阅读，一旦您开始阅读，或续费后继续阅读，系统才会将计算资源分配给您。"
   ]
  },
  {
   "cell_type": "markdown",
   "metadata": {},
   "source": [
    "**相关问题**：[我几天都没有上线为什么还是消耗了学习资源 Unit？](#q12)"
   ]
  },
  {
   "cell_type": "markdown",
   "metadata": {},
   "source": [
    "### 学习资源 Unit，到底是什么？\n",
    "<a id='q14'></a>"
   ]
  },
  {
   "cell_type": "markdown",
   "metadata": {},
   "source": [
    "https://xue.cn/hub/app/pricing"
   ]
  },
  {
   "cell_type": "markdown",
   "metadata": {},
   "source": [
    "**相关问题**：[XUE 服务是如何计费的？](#q34)"
   ]
  },
  {
   "cell_type": "markdown",
   "metadata": {},
   "source": [
    "### 手机号注册的账号和 github 注册的账号能关联吗？\n",
    "<a id='q38'></a>"
   ]
  },
  {
   "cell_type": "markdown",
   "metadata": {},
   "source": [
    "手机号注册的账号，目前还不能和 github 账号关联，不过我们正在开发关联的功能。"
   ]
  },
  {
   "cell_type": "markdown",
   "metadata": {},
   "source": [
    "现在它们还是两个不同的账号，但没有关系，都可以单独使用。"
   ]
  },
  {
   "cell_type": "markdown",
   "metadata": {},
   "source": [
    "### 从权限来分，XUE.cn 有几类用户，各有什么权限？\n",
    "<a id='q39'></a>"
   ]
  },
  {
   "cell_type": "markdown",
   "metadata": {},
   "source": [
    "目前为止，一共有三类用户："
   ]
  },
  {
   "cell_type": "markdown",
   "metadata": {},
   "source": [
    "<font weight=600>1、付费模式，已登录，剩余时长不为 0 的用户：</font>"
   ]
  },
  {
   "cell_type": "markdown",
   "metadata": {},
   "source": [
    "▷ 所有已有功能均可使用。"
   ]
  },
  {
   "cell_type": "markdown",
   "metadata": {},
   "source": [
    "<font weight=600>2、欠费模式，已登录，但剩余时长为 0 的用户：</font>"
   ]
  },
  {
   "cell_type": "markdown",
   "metadata": {},
   "source": [
    "▷ 容器无法启动，不能运行或新建 code cell，但可以查看已有的代码。"
   ]
  },
  {
   "cell_type": "markdown",
   "metadata": {},
   "source": [
    "▷ 无法阅读书籍的收费阅读章节，但可以阅读免费或试读章节。"
   ]
  },
  {
   "cell_type": "markdown",
   "metadata": {},
   "source": [
    "▷ 习题练习中编程题不能运行及提交代码，但其它题型不受影响。"
   ]
  },
  {
   "cell_type": "markdown",
   "metadata": {},
   "source": [
    "▷ 挑战答题不能运行，但可以只能查看/回顾挑战历史。"
   ]
  },
  {
   "cell_type": "markdown",
   "metadata": {},
   "source": [
    "▷ 章节和习题评论只能查看评论，不能发布。"
   ]
  },
  {
   "cell_type": "markdown",
   "metadata": {},
   "source": [
    "▷ 我的笔记本、我的学力值、阅读时长记录 、我的学习动态、我的学习报告、成就系统 、我的学习主页、分享功能、我的书 架、打卡和学习心得、书库页面、查看我的评论与通知、我的时长与订单、我的账号设置、礼品卡购买和自学攻略的功能不受影响。"
   ]
  },
  {
   "cell_type": "markdown",
   "metadata": {},
   "source": [
    "<font weight=600>3、游客模式，未登录的用户：</font>"
   ]
  },
  {
   "cell_type": "markdown",
   "metadata": {},
   "source": [
    "▷ 容器无法启动，不能运行或新建 code cell，但可以查看已有的代码。"
   ]
  },
  {
   "cell_type": "markdown",
   "metadata": {},
   "source": [
    "▷ 无法阅读书籍的收费阅读章节，但可以阅读免费或试读章节。"
   ]
  },
  {
   "cell_type": "markdown",
   "metadata": {},
   "source": [
    "▷ 习题练习中编程题不能运行及提交代码，但其它题型不受影响。"
   ]
  },
  {
   "cell_type": "markdown",
   "metadata": {},
   "source": [
    "▷ 章节和习题评论只能查看评论，不能发布。"
   ]
  },
  {
   "cell_type": "markdown",
   "metadata": {},
   "source": [
    "▷ 我的笔记本、打卡和学习心得、我的学力值、阅读时长记录 、我的学习动态、我的学习报告、成就系统 、我的学习主页、分享功能、挑战答题、我的书架、我的评论与通知、我的时长与订单、我的账号设置和礼品卡购买的功能均无法使用。"
   ]
  },
  {
   "cell_type": "markdown",
   "metadata": {},
   "source": [
    "▷ 书库页面和自学攻略的功能不受影响。"
   ]
  },
  {
   "cell_type": "markdown",
   "metadata": {},
   "source": [
    "### XUE.cn 网页打不开或者打开很慢怎么办？\n",
    "<a id='q6'></a>"
   ]
  },
  {
   "cell_type": "markdown",
   "metadata": {},
   "source": [
    "XUE.cn 的阅读器是一个基于 Jupyter Lab 的云端学习环境，第一次的加载时间可能会持续一分钟，还请耐心等待。"
   ]
  },
  {
   "cell_type": "markdown",
   "metadata": {},
   "source": [
    "如果还是打不开网页，请按以下步骤操作："
   ]
  },
  {
   "cell_type": "markdown",
   "metadata": {},
   "source": [
    "▷ XUE.cn 服务器布置在国内，可以尝试关闭代理设置；"
   ]
  },
  {
   "cell_type": "markdown",
   "metadata": {},
   "source": [
    "▷ 刷新页面，如果刷新页面没有改善，可以尝试退出后重新登录；"
   ]
  },
  {
   "cell_type": "markdown",
   "metadata": {},
   "source": [
    "▷ 清理浏览器缓存或更换浏览器登录，我们比较推荐 Chrome 浏览器；"
   ]
  },
  {
   "cell_type": "markdown",
   "metadata": {},
   "source": [
    "▷ 如果上述方法都不能解决您的问题，请联系我们的微信客服（微信:xue_oneone)，我们会在第一时间解决您的问题。"
   ]
  },
  {
   "cell_type": "markdown",
   "metadata": {},
   "source": [
    "**相关问题**：[为什么书籍加载到 95% 卡住了？](功能相关.ipynb?anchor=q36)"
   ]
  },
  {
   "cell_type": "markdown",
   "metadata": {},
   "source": [
    "### 小孩子可以使用 XUE.cn 学习编程吗？\n",
    "<a id='q8'></a>"
   ]
  },
  {
   "cell_type": "markdown",
   "metadata": {},
   "source": [
    "XUE.cn 适合全年龄段的人，只要具备一定的阅读能力，都可以通过 XUE.cn 来学习编程。"
   ]
  },
  {
   "cell_type": "markdown",
   "metadata": {},
   "source": [
    "不过最好是家长和孩子一起学习，或者家长自己先学习，毕竟身教胜于言传。家长的学习行为一定会影响孩子，激发孩子对编程的兴趣，兴趣产生了，学习就水到渠成了。"
   ]
  },
  {
   "cell_type": "markdown",
   "metadata": {},
   "source": [
    "### 学习中遇到困难、问题怎么办？\n",
    "<a id='q10'></a>"
   ]
  },
  {
   "cell_type": "markdown",
   "metadata": {},
   "source": [
    "如果在学习过程中遇到问题，可以："
   ]
  },
  {
   "cell_type": "markdown",
   "metadata": {},
   "source": [
    "▷ 先尝试自己解决，在解决问题的过程中，既加深了对知识的理解，又提升了自学能力，毕竟掌握自学能力比仅仅掌握知识更重要；"
   ]
  },
  {
   "cell_type": "markdown",
   "metadata": {},
   "source": [
    "▷ 在网上搜索解决方案，很多问题都可以在网上找到答案；"
   ]
  },
  {
   "cell_type": "markdown",
   "metadata": {},
   "source": [
    "▷ 如果以上两个方法都未解决问题，可以在“学习群”或章节下方留言提问，有经验的学友会为您提供帮助，解决您的问题。"
   ]
  },
  {
   "cell_type": "markdown",
   "metadata": {},
   "source": [
    "### XUE.cn 会增加其他编程语言的教程以及其他方面的新内容吗\n",
    "<a id='q11'></a>"
   ]
  },
  {
   "cell_type": "markdown",
   "metadata": {},
   "source": [
    "XUE.cn 会持续增加其他编程语言的教程以及其他方面的新内容，目前已经上架了 50 余本书，包括 Jave、Go 等语言编程。后续还会有陆续的新书上架，敬请期待。"
   ]
  },
  {
   "cell_type": "markdown",
   "metadata": {},
   "source": [
    "也欢迎大家推荐自己喜欢的内容，一经采用，会给予推荐者丰厚的奖励。"
   ]
  },
  {
   "cell_type": "markdown",
   "metadata": {},
   "source": [
    "推荐时请联系工作人员："
   ]
  },
  {
   "cell_type": "markdown",
   "metadata": {},
   "source": [
    "1、依依@xue.cn hello world！（微信:xue_oneone)"
   ]
  },
  {
   "cell_type": "markdown",
   "metadata": {},
   "source": [
    "2、刘娟娟🍀PRESS.ONE（微信: qiaoanlu）"
   ]
  },
  {
   "cell_type": "markdown",
   "metadata": {},
   "source": [
    "3、五星红旗@PRESSone（微信：cgq144）"
   ]
  },
  {
   "cell_type": "markdown",
   "metadata": {},
   "source": [
    "**相关问题**：[未来会有其它编程语言的学习内容吗？](学习相关.ipynb?anchor=q30)"
   ]
  },
  {
   "cell_type": "markdown",
   "metadata": {},
   "source": [
    "### XUE 服务是如何计费的？\n",
    "<a id='q34'></a>"
   ]
  },
  {
   "cell_type": "markdown",
   "metadata": {},
   "source": [
    "XUE 服务目前已经支持付费订阅的「基础套餐」，含可交互式学习环境、独立容器、优享资源价格等服务。"
   ]
  },
  {
   "cell_type": "markdown",
   "metadata": {},
   "source": [
    "以基础套餐为例，每月 30 元兑换 30 unit (简称 u) 的学习资源。当前的 XUE 云服务，单价是 1 unit/天，即每使用 1 天，将会自动扣除一个 U 的学习资源，并以账单形式呈现给您。"
   ]
  },
  {
   "cell_type": "markdown",
   "metadata": {},
   "source": [
    "之后会开放深度学习等高级套餐。"
   ]
  },
  {
   "cell_type": "markdown",
   "metadata": {},
   "source": [
    "### 购买了学习时长，能够享受到具体哪些服务？\n",
    "<a id='q37'></a>"
   ]
  },
  {
   "cell_type": "markdown",
   "metadata": {},
   "source": [
    "▷ **互动式学习环境：**"
   ]
  },
  {
   "cell_type": "markdown",
   "metadata": {},
   "source": [
    "基于 Jupyter Lab 技术深度定制的可交互阅读环境，无需单独安装运行环境，打开网页就可以边学边写，即时运行代码得出结果；"
   ]
  },
  {
   "cell_type": "markdown",
   "metadata": {},
   "source": [
    "▷ **即时交流：**"
   ]
  },
  {
   "cell_type": "markdown",
   "metadata": {},
   "source": [
    "三人行必有我师，学习中有疑惑、代码无法运行等，都可以立即在学习群中向其他人请教（包括作者）；"
   ]
  },
  {
   "cell_type": "markdown",
   "metadata": {},
   "source": [
    "▷ **习题：**"
   ]
  },
  {
   "cell_type": "markdown",
   "metadata": {},
   "source": [
    "您可以通过做题来检验对所学内容的掌握程度，巩固所学知识，深化对知识的理解，在做题过程中碰到困难需要帮助，可以去学习群向大家求助，或者发起习题讨论；"
   ]
  },
  {
   "cell_type": "markdown",
   "metadata": {},
   "source": [
    "▷ **互动讨论：**"
   ]
  },
  {
   "cell_type": "markdown",
   "metadata": {},
   "source": [
    "在阅读中有了新的想法或者疑惑，可以在章节下面发起讨论，与大家一起交流，在习题答题中碰到困难，也同样可以在习题下发起讨论求助或分享解题思路；"
   ]
  },
  {
   "cell_type": "markdown",
   "metadata": {},
   "source": [
    "▷ **学习中心：**"
   ]
  },
  {
   "cell_type": "markdown",
   "metadata": {},
   "source": [
    "用户学习中心记录您在平台的学习成长轨迹，动态和学习报告会详尽反馈您的学习状况；"
   ]
  },
  {
   "cell_type": "markdown",
   "metadata": {},
   "source": [
    "▷ **计划打卡与学习心得：**"
   ]
  },
  {
   "cell_type": "markdown",
   "metadata": {},
   "source": [
    "根据计划每日打卡并记录学习心得；"
   ]
  },
  {
   "cell_type": "markdown",
   "metadata": {},
   "source": [
    "XUE.cn 还在不断的更新迭代，随时都可能上线更有趣的功能，更多精彩期待您的发现。"
   ]
  },
  {
   "cell_type": "markdown",
   "metadata": {},
   "source": [
    "### 习题做完怎么运行呢或运行后怎么没有结果呢？\n",
    "<a id='q40'></a>"
   ]
  },
  {
   "cell_type": "markdown",
   "metadata": {},
   "source": [
    "习题做完点击”习题”下面的“运行”按键运行代码，如果运行没有结果，可以按照下述步骤操作："
   ]
  },
  {
   "cell_type": "markdown",
   "metadata": {},
   "source": [
    "▷ 先点一下习题下面的 “停止” 按键，再点 “运行” 按键；"
   ]
  },
  {
   "cell_type": "markdown",
   "metadata": {},
   "source": [
    "▷ 检查编写的代码本身是否就无法输出运行结果（没写 print()等）；"
   ]
  },
  {
   "cell_type": "markdown",
   "metadata": {},
   "source": [
    "▷ 刷新页面后或点击页面上方的‘重启阅读器”按键后再次运行习题中的代码；"
   ]
  },
  {
   "cell_type": "markdown",
   "metadata": {},
   "source": [
    "▷ 如果上述方法都不能解决您的问题，可以加入学习群，询问工作人员。"
   ]
  },
  {
   "cell_type": "markdown",
   "metadata": {},
   "source": [
    "**相关问题**：[运行书中或者习题代码后提示：代码执行失败 ，怎么办？](功能相关.ipynb?anchor=q35)"
   ]
  },
  {
   "cell_type": "markdown",
   "metadata": {},
   "source": [
    "### 时长兑换码怎么兑换？\n",
    "<a id='q46'></a>"
   ]
  },
  {
   "cell_type": "markdown",
   "metadata": {},
   "source": [
    "web 端（电脑网页登录）"
   ]
  },
  {
   "cell_type": "markdown",
   "metadata": {},
   "source": [
    "登录 xue.cn 后，点击右上角的隐藏菜单栏，点击“兑换时长/礼品卡”,进入兑换页面，输入自己获得的兑换码，即可兑换成功。"
   ]
  },
  {
   "cell_type": "markdown",
   "metadata": {},
   "source": [
    "App 端"
   ]
  },
  {
   "cell_type": "markdown",
   "metadata": {},
   "source": [
    "IOS 设备：暂时还无法兑换时长码；"
   ]
  },
  {
   "cell_type": "markdown",
   "metadata": {},
   "source": [
    "Android 设备：进入 App， 在“我的”中点击“兑换时长”，其他操作同 web 端。"
   ]
  },
  {
   "cell_type": "markdown",
   "metadata": {},
   "source": [
    "**相关问题**：[什么是时长兑换码（赠送时长）？怎么获取兑时长兑换码？](功能相关.ipynb?anchor=q9)"
   ]
  },
  {
   "cell_type": "markdown",
   "metadata": {},
   "source": [
    "### XUE.cn 账户怎么充值？\n",
    "<a id='q43'></a>"
   ]
  },
  {
   "cell_type": "markdown",
   "metadata": {},
   "source": [
    "▷ 订购 XUE 服务套餐："
   ]
  },
  {
   "cell_type": "markdown",
   "metadata": {},
   "source": [
    "详见：[[XUE.cn 账户怎么购买 XUE 服务？](#44)"
   ]
  },
  {
   "cell_type": "markdown",
   "metadata": {},
   "source": [
    "▷ 购买礼品卡充值"
   ]
  },
  {
   "cell_type": "markdown",
   "metadata": {},
   "source": [
    "详见：[怎样购买礼品卡并充值？](#45)"
   ]
  },
  {
   "cell_type": "markdown",
   "metadata": {},
   "source": [
    "▷ 兑换码兑换时长"
   ]
  },
  {
   "cell_type": "markdown",
   "metadata": {},
   "source": [
    "详见：[时长兑换码怎么兑换？](#46)"
   ]
  },
  {
   "cell_type": "markdown",
   "metadata": {},
   "source": [
    "▷ 学力值兑换"
   ]
  },
  {
   "cell_type": "markdown",
   "metadata": {},
   "source": [
    "详见：学力值怎么兑换成学习时长？](#42)"
   ]
  },
  {
   "cell_type": "markdown",
   "metadata": {},
   "source": [
    "**相关问题**：[购买了学习时长，能够享受到具体哪些服务？](#q37)"
   ]
  },
  {
   "cell_type": "markdown",
   "metadata": {},
   "source": [
    "### 获得邀请时长码奖励的方式有哪些，分别怎么操作呢？\n",
    "<a id='q41'></a>"
   ]
  },
  {
   "cell_type": "markdown",
   "metadata": {},
   "source": [
    "1. 新用户通过你分享的注册链接注册 xue.cn"
   ]
  },
  {
   "cell_type": "markdown",
   "metadata": {},
   "source": [
    "详见：[怎么通过分享注册链接注册 xue.cn 获得邀请奖励？](#47)"
   ]
  },
  {
   "cell_type": "markdown",
   "metadata": {},
   "source": [
    "▷ 新用户通过你分享的笔记注册 xue.cn"
   ]
  },
  {
   "cell_type": "markdown",
   "metadata": {},
   "source": [
    "详见：[怎么通过分享读书笔记注册 xue.cn 获得邀请奖励？](#48)"
   ]
  },
  {
   "cell_type": "markdown",
   "metadata": {},
   "source": [
    "▷ 新用户通过你分享的学习心得注册 xue.cn"
   ]
  },
  {
   "cell_type": "markdown",
   "metadata": {},
   "source": [
    "详见：[怎么通过学习心得注册 xue.cn 获得邀请奖励？](#49)"
   ]
  },
  {
   "cell_type": "markdown",
   "metadata": {},
   "source": [
    "▷ 新用户通过你分享的成就勋章注册 xue.cn"
   ]
  },
  {
   "cell_type": "markdown",
   "metadata": {},
   "source": [
    "详见：[怎么通过分享成就勋章注册 xue.cn 获得邀请奖励？](#50)"
   ]
  },
  {
   "cell_type": "markdown",
   "metadata": {},
   "source": [
    "▷ 新用户通过你分享的书籍注册 xue.cn"
   ]
  },
  {
   "cell_type": "markdown",
   "metadata": {},
   "source": [
    "详见：怎么通过分享书籍注册 xue.cn 获得邀请奖励？](#51)"
   ]
  },
  {
   "cell_type": "markdown",
   "metadata": {},
   "source": [
    "**相关问题**：[什么是时长兑换码（赠送时长）？怎么获取兑时长兑换码？](功能相关.ipynb?anchor=q9)"
   ]
  },
  {
   "cell_type": "markdown",
   "metadata": {},
   "source": [
    "### XUE.cn 有手机 App 吗？如何下载？\n",
    "<a id='q31'></a>"
   ]
  },
  {
   "cell_type": "markdown",
   "metadata": {},
   "source": [
    "有。在苹果商店和 Google Play Store 均可以通过搜索 XUE.cn 进行下载，而且主页也有安卓安装包供下载安装。"
   ]
  },
  {
   "cell_type": "markdown",
   "metadata": {},
   "source": [
    "XUE.cn 的手机 APP 针对手机的应用场景，为用户提供更多利用碎片时间学习编程的功能。让同学们在搭地铁、参加无聊会议、蹲马桶的时候，都可以愉快地学习。"
   ]
  },
  {
   "cell_type": "markdown",
   "metadata": {},
   "source": [
    "如何下载 XUE.cn App"
   ]
  },
  {
   "cell_type": "markdown",
   "metadata": {},
   "source": [
    "▷ ios 设备：直接在 App Store 中搜索 xue.cn 就可找到"
   ]
  },
  {
   "cell_type": "markdown",
   "metadata": {},
   "source": [
    "▷ Android 设备：能登录谷歌商店的，直接在商店中搜索 xue.cn 就可找到，无法登录谷歌商店的，可以在 xue.cn 主页上下载 xue.cn App 安装包（见下图），手机浏览器上不好下载的，可以在 web 端下载后传到手机上。下载不方便或者无法下载的用户，可以联系工作人员，请工作人员直接传安装包给你。"
   ]
  },
  {
   "cell_type": "markdown",
   "metadata": {},
   "source": [
    "<img width=\"974\" height=\"882\" src=\"https://user-images.githubusercontent.com/31980259/85350941-0d583480-b535-11ea-8c86-300fc4b435c2.png\" />"
   ]
  },
  {
   "cell_type": "markdown",
   "metadata": {},
   "source": [
    "注：下载最好用谷歌浏览器，其他浏览器偶尔会有下载不顺畅的问题。"
   ]
  },
  {
   "cell_type": "markdown",
   "metadata": {},
   "source": [
    "### 学力值怎么兑换成学习时长？\n",
    "<a id='q42'></a>"
   ]
  },
  {
   "cell_type": "markdown",
   "metadata": {},
   "source": [
    "### web 端（电脑网页登录）"
   ]
  },
  {
   "cell_type": "markdown",
   "metadata": {},
   "source": [
    "登录 xue.cn 后，点击右上角的隐藏菜单栏，在“我的学力值”中，点击”兑换为时长“，就可以兑换成功。兑换结果可以在”我的学力值“页面下部看到（见下图），也可以在‘”我的时长及订单“页面下部的”时长“中查看。"
   ]
  },
  {
   "cell_type": "markdown",
   "metadata": {},
   "source": [
    "<img width=\"789\" height=\"922\" src=\"https://user-images.githubusercontent.com/31980259/85351878-4d201b80-b537-11ea-8e35-417c5455ea70.png\" />"
   ]
  },
  {
   "cell_type": "markdown",
   "metadata": {},
   "source": [
    "### App 端"
   ]
  },
  {
   "cell_type": "markdown",
   "metadata": {},
   "source": [
    "Android 设备：进入 App， 在底部“我的”中点击“学力值兑换”，其他操作同 web 端。"
   ]
  },
  {
   "cell_type": "markdown",
   "metadata": {},
   "source": [
    "ios 设备：暂时还不能兑换学力值。"
   ]
  },
  {
   "cell_type": "markdown",
   "metadata": {},
   "source": [
    "注：120 pt 学力值可兑换 1U 时长，每周最多只能兑 10U 时长， 每次最少兑换 3U，也就是说，学力值最少要达到 360pt，才能参与兑换时长。"
   ]
  },
  {
   "cell_type": "markdown",
   "metadata": {},
   "source": [
    "**相关问题**：[什么是学力值？学力值怎么获得？学力值可以干什么？](功能相关.ipynb?anchor=q15)"
   ]
  },
  {
   "cell_type": "markdown",
   "metadata": {},
   "source": [
    "### XUE.cn 账户怎么购买 XUE 服务？\n",
    "<a id='q44'></a>"
   ]
  },
  {
   "cell_type": "markdown",
   "metadata": {},
   "source": [
    "web 端（电脑网页登录）"
   ]
  },
  {
   "cell_type": "markdown",
   "metadata": {},
   "source": [
    "登录 xue.cn 后，点击右上角的隐藏菜单栏，在“我的时长及订单”，选择自己需要的时长，点击‘提交订单’（见下图），使用微信扫描二维码付款。"
   ]
  },
  {
   "cell_type": "markdown",
   "metadata": {},
   "source": [
    "<img width=\"786\" height=\"595\" src=\"https://user-images.githubusercontent.com/31980259/85364393-a303bc00-b555-11ea-82bc-a83701c6a5d3.png\" />"
   ]
  },
  {
   "cell_type": "markdown",
   "metadata": {},
   "source": [
    "注：付款二维码要直接扫描，不能下载下来再从相册中扫描。"
   ]
  },
  {
   "cell_type": "markdown",
   "metadata": {},
   "source": [
    "App 端"
   ]
  },
  {
   "cell_type": "markdown",
   "metadata": {},
   "source": [
    "IOS 设备：进入 App， 在“我的”中点击\"时长及订单\"，然后点击\"订阅 XUE 服务\"，选择自己需要的订阅时长付款就可以了；"
   ]
  },
  {
   "cell_type": "markdown",
   "metadata": {},
   "source": [
    "Android 设备：暂时还无法购买。"
   ]
  },
  {
   "cell_type": "markdown",
   "metadata": {},
   "source": [
    "**相关问题**：[购买了学习时长，能够享受到具体哪些服务？](#q37)"
   ]
  },
  {
   "cell_type": "markdown",
   "metadata": {},
   "source": [
    "### 怎样购买礼品卡并充值？\n",
    "<a id='q45'></a>"
   ]
  },
  {
   "cell_type": "markdown",
   "metadata": {},
   "source": [
    "web 端（电脑网页登录）"
   ]
  },
  {
   "cell_type": "markdown",
   "metadata": {},
   "source": [
    "登录 xue.cn 后，点击右上角的隐藏菜单栏，在“学习中心”或“我的学力值”左侧下方点击“时长兑换礼品卡”，进入“套餐价格”页面，在页面下方的“时长礼品卡”上点击“购买”键（见下图），出现四张可以选择的卡片，选择自己喜欢的卡片，点击“下一步”，选择自己需要的时长，不同的时长会有不同的优惠，然后点击“下一步”，微信扫描二维码付款，拿到时长兑换码兑换即可。"
   ]
  },
  {
   "cell_type": "markdown",
   "metadata": {},
   "source": [
    "<img width=\"934\" height=\"975\" src=\"https://user-images.githubusercontent.com/31980259/85365042-1bb74800-b557-11ea-853a-508aa3a3e56a.png\" />"
   ]
  },
  {
   "cell_type": "markdown",
   "metadata": {},
   "source": [
    "注："
   ]
  },
  {
   "cell_type": "markdown",
   "metadata": {},
   "source": [
    "礼品卡自用还可以送人，相对于 XUE 服务套餐有一定的优惠："
   ]
  },
  {
   "cell_type": "markdown",
   "metadata": {},
   "source": [
    "购买 3 个月面值礼品卡，另送 15U 兑换码；"
   ]
  },
  {
   "cell_type": "markdown",
   "metadata": {},
   "source": [
    "购买半年面值礼品卡，另送 35U 兑换码；"
   ]
  },
  {
   "cell_type": "markdown",
   "metadata": {},
   "source": [
    "购买一年面值礼品卡，另送 90U 兑换码。"
   ]
  },
  {
   "cell_type": "markdown",
   "metadata": {},
   "source": [
    "App 端"
   ]
  },
  {
   "cell_type": "markdown",
   "metadata": {},
   "source": [
    "暂时还无法购买礼品卡。"
   ]
  },
  {
   "cell_type": "markdown",
   "metadata": {},
   "source": [
    "**相关问题**：[什么是时长兑换码（赠送时长）？怎么获取兑时长兑换码？](功能相关.ipynb?anchor=q9)"
   ]
  },
  {
   "cell_type": "markdown",
   "metadata": {},
   "source": [
    "### 怎么通过分享注册链接注册 xue.cn 获得邀请奖励？\n",
    "<a id='q47'></a>"
   ]
  },
  {
   "cell_type": "markdown",
   "metadata": {},
   "source": [
    "web 端（电脑网页登录）"
   ]
  },
  {
   "cell_type": "markdown",
   "metadata": {},
   "source": [
    "登录 xue.cn 后，点击右上角的隐藏菜单栏，在“我的账号”中点击“我的邀请”，就可以看到自己的邀请链接（见下图），将它分享出去，新用户通过它注册，你和对方均可以获得 2 天的学习时长奖励。"
   ]
  },
  {
   "cell_type": "markdown",
   "metadata": {},
   "source": [
    "<img width=\"1830\" height=\"1064\" src=\"https://user-images.githubusercontent.com/31980259/85346710-d4b25e00-b528-11ea-9597-530a933329b7.png\" />"
   ]
  },
  {
   "cell_type": "markdown",
   "metadata": {},
   "source": [
    "App 端"
   ]
  },
  {
   "cell_type": "markdown",
   "metadata": {},
   "source": [
    "进入 App， 在底部“我的”中点击“我的邀请”，就可以看到自己的邀请链接，其他操作同 web 端。"
   ]
  },
  {
   "cell_type": "markdown",
   "metadata": {},
   "source": [
    "**相关问题**：[什么是时长兑换码（赠送时长）？怎么获取兑时长兑换码？](功能相关.ipynb?anchor=q9)"
   ]
  },
  {
   "cell_type": "markdown",
   "metadata": {},
   "source": [
    "### 怎么通过分享读书笔记注册 xue.cn 获得邀请奖励？\n",
    "<a id='q48'></a>"
   ]
  },
  {
   "cell_type": "markdown",
   "metadata": {},
   "source": [
    "web 端（电脑网页登录）"
   ]
  },
  {
   "cell_type": "markdown",
   "metadata": {},
   "source": [
    "登录 xue.cn 后，点击右上角的隐藏菜单栏，在“读书笔记”中点击任何一条笔记右上角的“分享”键，就会生成可以分享的图片（见下图），将它分享出去，新用户扫描上面的二维码注册，你和对方均可以获得 2 天的时长。"
   ]
  },
  {
   "cell_type": "markdown",
   "metadata": {},
   "source": [
    "<img width=\"750\" height=\"1507\" src=\"https://user-images.githubusercontent.com/31980259/85347160-5e166000-b52a-11ea-9618-e6cfca0a2a43.png\" />"
   ]
  },
  {
   "cell_type": "markdown",
   "metadata": {},
   "source": [
    "App 端"
   ]
  },
  {
   "cell_type": "markdown",
   "metadata": {},
   "source": [
    "进入 App， 在底部“学习”中点击“读书笔记”中的“打开笔记本”，选中任何一条笔记，点击分享键，将它分享出去，新用户扫描上面的二维码注册，你和对方均可以获得 2 天的时长。"
   ]
  },
  {
   "cell_type": "markdown",
   "metadata": {},
   "source": [
    "**相关问题**：[什么是时长兑换码（赠送时长）？怎么获取兑时长兑换码？](功能相关.ipynb?anchor=q9)"
   ]
  },
  {
   "cell_type": "markdown",
   "metadata": {},
   "source": [
    "### 怎么通过分享学习心得注册 xue.cn 获得邀请奖励？\n",
    "<a id='q49'></a>"
   ]
  },
  {
   "cell_type": "markdown",
   "metadata": {},
   "source": [
    "web 端（电脑网页登录）"
   ]
  },
  {
   "cell_type": "markdown",
   "metadata": {},
   "source": [
    "登录 xue.cn 后，点击右上角的隐藏菜单栏，在“打卡+学习心得”中点击“所有学习心得”，然后点击右侧的“分享”键，就会生成可以分享的图片（见下图），将它分享出去，新用户扫描上面的二维码注册，你和对方均可以获得 2 天的时长。"
   ]
  },
  {
   "cell_type": "markdown",
   "metadata": {},
   "source": [
    "<img width=\"750\" height=\"1392\" src=\"https://user-images.githubusercontent.com/31980259/85347427-1217eb00-b52b-11ea-9201-c6488bdde39c.png\" />"
   ]
  },
  {
   "cell_type": "markdown",
   "metadata": {},
   "source": [
    "App 端"
   ]
  },
  {
   "cell_type": "markdown",
   "metadata": {},
   "source": [
    "进入 App， 在底部“学习”中点击“学习心得”中的“查看全部”，选中任何一条学习心得，点击右上角的分享键，将它分享出去，新用户扫描上面的二维码注册，你和对方均可以获得 2 天的时长。"
   ]
  },
  {
   "cell_type": "markdown",
   "metadata": {},
   "source": [
    "**相关问题**：[什么是时长兑换码（赠送时长）？怎么获取兑时长兑换码？](功能相关.ipynb?anchor=q9)"
   ]
  },
  {
   "cell_type": "markdown",
   "metadata": {},
   "source": [
    "### 怎么通过分享成就勋章注册 xue.cn 获得邀请奖励？\n",
    "<a id='q50'></a>"
   ]
  },
  {
   "cell_type": "markdown",
   "metadata": {},
   "source": [
    "web 端（电脑网页登录）"
   ]
  },
  {
   "cell_type": "markdown",
   "metadata": {},
   "source": [
    "登录 xue.cn 后，点击右上角的隐藏菜单栏，在“学习中心”左侧点击“我的成就勋章”中“查看所有成就”，然后点击任何一个你获得的成就勋章就会生成一个比较大的图片，点击图片下方的“分享我的成就”，就生成可以分享的图片（见下图），将它分享出去，新用户扫描上面的二维码注册，你和对方均可以获得 2 天的时长。"
   ]
  },
  {
   "cell_type": "markdown",
   "metadata": {},
   "source": [
    "<img width=\"750\" height=\"1234\" src=\"https://user-images.githubusercontent.com/31980259/85347491-52776900-b52b-11ea-985b-62dcb82538f0.png\" />"
   ]
  },
  {
   "cell_type": "markdown",
   "metadata": {},
   "source": [
    "App 端"
   ]
  },
  {
   "cell_type": "markdown",
   "metadata": {},
   "source": [
    "进入 App， 在底部“我的”中点击“成就勋章”，其他操作同 web 端。"
   ]
  },
  {
   "cell_type": "markdown",
   "metadata": {},
   "source": [
    "**相关问题**：[什么是时长兑换码（赠送时长）？怎么获取兑时长兑换码？](功能相关.ipynb?anchor=q9)"
   ]
  },
  {
   "cell_type": "markdown",
   "metadata": {},
   "source": [
    "### 怎么通过分享书籍注册 xue.cn 获得邀请奖励？\n",
    "<a id='q51'></a>"
   ]
  },
  {
   "cell_type": "markdown",
   "metadata": {},
   "source": [
    "web 端（电脑网页登录）"
   ]
  },
  {
   "cell_type": "markdown",
   "metadata": {},
   "source": [
    "登录 xue.cn 后，点击右上角的隐藏菜单栏，在“访问 XUE.cn 书库”点击想要分享的书籍的内容简介，然后点击“作者介绍”下方的“邀请好友一起免费读’键（见下图）”就会生成可以分享的图片，将它分享出去，新用户扫描上面的二维码注册，你和对方均可以获得 2 天的时长。"
   ]
  },
  {
   "cell_type": "markdown",
   "metadata": {},
   "source": [
    "<img width=\"1920\" height=\"712\" src=\"https://user-images.githubusercontent.com/31980259/85348402-14c80f80-b52e-11ea-9561-79343e7c6d3e.png\" />"
   ]
  },
  {
   "cell_type": "markdown",
   "metadata": {},
   "source": [
    "App 端"
   ]
  },
  {
   "cell_type": "markdown",
   "metadata": {},
   "source": [
    "进入 App，在底部“书库”中点击想要分享的书籍的内容简介，点击右上角的“分享”键（见下图），其他操作同 web 端。"
   ]
  },
  {
   "cell_type": "markdown",
   "metadata": {},
   "source": [
    "<img width=\"1072\" height=\"2112\" src=\"https://user-images.githubusercontent.com/31980259/85349114-2ad6cf80-b530-11ea-9d4d-397a6c787d25.png\" />"
   ]
  },
  {
   "cell_type": "markdown",
   "metadata": {},
   "source": [
    "**相关问题**：[什么是时长兑换码（赠送时长）？怎么获取兑时长兑换码？](功能相关.ipynb?anchor=q9)"
   ]
  },
  {
   "cell_type": "markdown",
   "metadata": {},
   "source": [
    "### Github 账号怎么样迁移到邮箱或手机账号？\n",
    "<a id='q52'></a>"
   ]
  },
  {
   "cell_type": "markdown",
   "metadata": {},
   "source": [
    "说明："
   ]
  },
  {
   "cell_type": "markdown",
   "metadata": {},
   "source": [
    "▷ 迁移时间为迁移功能发布日至 9 月 1 日 ；"
   ]
  },
  {
   "cell_type": "markdown",
   "metadata": {},
   "source": [
    "▷ 9 月 1 日后 Xue.cn 不再提供 Github 登录方式；"
   ]
  },
  {
   "cell_type": "markdown",
   "metadata": {},
   "source": [
    "▷ 迁移功能发布日之前注册的 Github 账号在 9 月 1 日之前完成迁移的都将获得 60U 的时长奖励；"
   ]
  },
  {
   "cell_type": "markdown",
   "metadata": {},
   "source": [
    "▷ 迁移功能发布日至 9 月 1 日 之间注册的 Github 账号不能迁移；"
   ]
  },
  {
   "cell_type": "markdown",
   "metadata": {},
   "source": [
    "▷ 如果被迁移的账号是新注册的，里面没有数据，会把 github 账号内的所有数据都迁移到新账号；"
   ]
  },
  {
   "cell_type": "markdown",
   "metadata": {},
   "source": [
    "▷ 如果是已经注册了一定时间的账号只会迁移时长，其他数据不会迁移，所以最好把学力值兑换成时长迁移过去。"
   ]
  },
  {
   "cell_type": "markdown",
   "metadata": {},
   "source": [
    "迁移方法："
   ]
  },
  {
   "cell_type": "markdown",
   "metadata": {},
   "source": [
    "▷ 打开 Xue.cn 登录页面，点击‘使用 Github 账号登录（见下图）；"
   ]
  },
  {
   "cell_type": "markdown",
   "metadata": {},
   "source": [
    "<img width=\"1069\" height=\"1584\" src=\"https://user-images.githubusercontent.com/52018806/87008685-b7eb7b00-c1f6-11ea-819c-5660c06f9191.png\" />"
   ]
  },
  {
   "cell_type": "markdown",
   "metadata": {},
   "source": [
    "▷ 点击 'Github 登录快速迁移‘（见下图）；"
   ]
  },
  {
   "cell_type": "markdown",
   "metadata": {},
   "source": [
    "<img width=\"1067\" height=\"1443\" src=\"https://user-images.githubusercontent.com/52018806/87009060-3f38ee80-c1f7-11ea-9d6d-6ead2f47743b.png\" />"
   ]
  },
  {
   "cell_type": "markdown",
   "metadata": {},
   "source": [
    "▷ 输入你的 Github 账号名和密码，点击 'Sign in' (见下图）;"
   ]
  },
  {
   "cell_type": "markdown",
   "metadata": {},
   "source": [
    "<img width=\"1063\" height=\"1534\" src=\"https://user-images.githubusercontent.com/52018806/87009438-bec6bd80-c1f7-11ea-9ed4-67cb632e5e16.png\" />"
   ]
  },
  {
   "cell_type": "markdown",
   "metadata": {},
   "source": [
    "▷ 输入 Github 发给你的验证码（见下图），这个验证码发到了你注册 Github 时使用的邮箱里；"
   ]
  },
  {
   "cell_type": "markdown",
   "metadata": {},
   "source": [
    "<img width=\"1076\" height=\"918\" src=\"https://user-images.githubusercontent.com/52018806/87009733-2aa92600-c1f8-11ea-809f-4a5c480d9ce9.png\" />"
   ]
  },
  {
   "cell_type": "markdown",
   "metadata": {},
   "source": [
    "▷ 输入你要迁移的手机或邮箱账号，发送验证码，收到验证码后输入，然后点击‘确认迁移’（见下图）；"
   ]
  },
  {
   "cell_type": "markdown",
   "metadata": {},
   "source": [
    "<img width=\"1074\" height=\"1432\" src=\"https://user-images.githubusercontent.com/52018806/87010432-22051f80-c1f9-11ea-88f2-a539466319be.png\" />"
   ]
  },
  {
   "cell_type": "markdown",
   "metadata": {},
   "source": [
    "▷ 若迁移成功，会有一个‘迁移成功’的通知弹出（见下图），若不成功，请请联系工作人员微信：xue_oneone ；"
   ]
  },
  {
   "cell_type": "markdown",
   "metadata": {},
   "source": [
    "<img width=\"1032\" height=\"491\" src=\"https://user-images.githubusercontent.com/52018806/87012660-254dda80-c1fc-11ea-959f-f8a4d9a437a4.png\" />"
   ]
  },
  {
   "cell_type": "markdown",
   "metadata": {},
   "source": [
    "▷ 迁移成功后，登入自己的新账号，打开'我的时长及订单'，在'时长'栏下面就会看到迁移奖励（见下图），至此，迁移完成！"
   ]
  },
  {
   "cell_type": "markdown",
   "metadata": {},
   "source": [
    "<img width=\"791\" height=\"235\" src=\"https://user-images.githubusercontent.com/52018806/87013182-d5234800-c1fc-11ea-9304-73a0637c99e4.png\" />"
   ]
  }
 ],
 "metadata": {
  "kernelspec": {
   "display_name": "Python 3",
   "language": "python",
   "name": "python3"
  },
  "language_info": {
   "codemirror_mode": {
    "name": "ipython",
    "version": 3
   },
   "file_extension": ".py",
   "mimetype": "text/x-python",
   "name": "python",
   "nbconvert_exporter": "python",
   "pygments_lexer": "ipython3",
   "version": "3.7.4"
  }
 },
 "nbformat": 4,
 "nbformat_minor": 2
}