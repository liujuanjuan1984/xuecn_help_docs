{
 "cells": [
  {
   "cell_type": "markdown",
   "metadata": {},
   "source": [
    "## 7. 分享获邀请奖励"
   ]
  },
  {
   "cell_type": "markdown",
   "metadata": {},
   "source": [
    "### 获得邀请时长码奖励的方式有哪些，分别怎么操作呢？\n",
    "<a id='q41'></a>"
   ]
  },
  {
   "cell_type": "markdown",
   "metadata": {},
   "source": [
    "▷ 新用户通过你分享的注册链接注册 xue.cn"
   ]
  },
  {
   "cell_type": "markdown",
   "metadata": {},
   "source": [
    "详见：[怎么通过分享注册链接注册 xue.cn 获得邀请奖励？](#47)"
   ]
  },
  {
   "cell_type": "markdown",
   "metadata": {},
   "source": [
    "▷ 新用户通过你分享的笔记注册 xue.cn"
   ]
  },
  {
   "cell_type": "markdown",
   "metadata": {},
   "source": [
    "详见：[怎么通过分享读书笔记注册 xue.cn 获得邀请奖励？](#48)"
   ]
  },
  {
   "cell_type": "markdown",
   "metadata": {},
   "source": [
    "▷ 新用户通过你分享的学习心得注册 xue.cn"
   ]
  },
  {
   "cell_type": "markdown",
   "metadata": {},
   "source": [
    "详见：[怎么通过学习心得注册 xue.cn 获得邀请奖励？](#49)"
   ]
  },
  {
   "cell_type": "markdown",
   "metadata": {},
   "source": [
    "▷ 新用户通过你分享的成就勋章注册 xue.cn"
   ]
  },
  {
   "cell_type": "markdown",
   "metadata": {},
   "source": [
    "详见：[怎么通过分享成就勋章注册 xue.cn 获得邀请奖励？](#50)"
   ]
  },
  {
   "cell_type": "markdown",
   "metadata": {},
   "source": [
    "▷ 新用户通过你分享的书籍注册 xue.cn"
   ]
  },
  {
   "cell_type": "markdown",
   "metadata": {},
   "source": [
    "详见：[怎么通过分享书籍注册 xue.cn 获得邀请奖励？](#51)"
   ]
  },
  {
   "cell_type": "markdown",
   "metadata": {},
   "source": [
    "**相关问题**：[什么是时长兑换码（赠送时长）？怎么获取兑时长兑换码？](6. 学习时长及付费.ipynb?anchor=q9)"
   ]
  },
  {
   "cell_type": "markdown",
   "metadata": {},
   "source": [
    "### 怎么通过分享注册链接注册 xue.cn 获得邀请奖励？\n",
    "<a id='q47'></a>"
   ]
  },
  {
   "cell_type": "markdown",
   "metadata": {},
   "source": [
    "web 端（电脑网页登录）"
   ]
  },
  {
   "cell_type": "markdown",
   "metadata": {},
   "source": [
    "登录 xue.cn 后，点击右上角的隐藏菜单栏，在“我的账号”中点击“我的邀请”，就可以看到自己的邀请链接（见下图），将它分享出去，新用户通过它注册，你和对方均可以获得 2 天的学习时长奖励。"
   ]
  },
  {
   "cell_type": "markdown",
   "metadata": {},
   "source": [
    "<img width=\"915\" height=\"534\" src=\"https://user-images.githubusercontent.com/31980259/85346710-d4b25e00-b528-11ea-9597-530a933329b7.png\" />"
   ]
  },
  {
   "cell_type": "markdown",
   "metadata": {},
   "source": [
    "App 端"
   ]
  },
  {
   "cell_type": "markdown",
   "metadata": {},
   "source": [
    "进入 App， 在底部“我的”中点击“我的邀请”，就可以看到自己的邀请链接，其他操作同 web 端。"
   ]
  },
  {
   "cell_type": "markdown",
   "metadata": {},
   "source": [
    "**相关问题**：[什么是时长兑换码（赠送时长）？怎么获取兑时长兑换码？](6. 学习时长及付费.ipynb?anchor=q9)"
   ]
  },
  {
   "cell_type": "markdown",
   "metadata": {},
   "source": [
    "### 怎么通过分享读书笔记注册 xue.cn 获得邀请奖励？\n",
    "<a id='q48'></a>"
   ]
  },
  {
   "cell_type": "markdown",
   "metadata": {},
   "source": [
    "web 端（电脑网页登录）"
   ]
  },
  {
   "cell_type": "markdown",
   "metadata": {},
   "source": [
    "登录 xue.cn 后，点击右上角的隐藏菜单栏，在“读书笔记”中点击任何一条笔记右上角的“分享”键，就会生成可以分享的图片（见下图），将它分享出去，新用户扫描上面的二维码注册，你和对方均可以获得 2 天的时长。"
   ]
  },
  {
   "cell_type": "markdown",
   "metadata": {},
   "source": [
    "<img width=\"375\" height=\"754\" src=\"https://user-images.githubusercontent.com/31980259/85347160-5e166000-b52a-11ea-9618-e6cfca0a2a43.png\" />"
   ]
  },
  {
   "cell_type": "markdown",
   "metadata": {},
   "source": [
    "App 端"
   ]
  },
  {
   "cell_type": "markdown",
   "metadata": {},
   "source": [
    "进入 App， 在底部“学习”中点击“读书笔记”中的“打开笔记本”，选中任何一条笔记，点击分享键，将它分享出去，新用户扫描上面的二维码注册，你和对方均可以获得 2 天的时长。"
   ]
  },
  {
   "cell_type": "markdown",
   "metadata": {},
   "source": [
    "**相关问题**：[什么是时长兑换码（赠送时长）？怎么获取兑时长兑换码？](6. 学习时长及付费.ipynb?anchor=q9)"
   ]
  },
  {
   "cell_type": "markdown",
   "metadata": {},
   "source": [
    "### 怎么通过分享学习心得注册 xue.cn 获得邀请奖励？\n",
    "<a id='q49'></a>"
   ]
  },
  {
   "cell_type": "markdown",
   "metadata": {},
   "source": [
    "web 端（电脑网页登录）"
   ]
  },
  {
   "cell_type": "markdown",
   "metadata": {},
   "source": [
    "登录 xue.cn 后，点击右上角的隐藏菜单栏，在“打卡+学习心得”中点击“所有学习心得”，然后点击右侧的“分享”键，就会生成可以分享的图片（见下图），将它分享出去，新用户扫描上面的二维码注册，你和对方均可以获得 2 天的时长。"
   ]
  },
  {
   "cell_type": "markdown",
   "metadata": {},
   "source": [
    "<img width=\"375\" height=\"696\" src=\"https://user-images.githubusercontent.com/31980259/85347427-1217eb00-b52b-11ea-9201-c6488bdde39c.png\" />"
   ]
  },
  {
   "cell_type": "markdown",
   "metadata": {},
   "source": [
    "App 端"
   ]
  },
  {
   "cell_type": "markdown",
   "metadata": {},
   "source": [
    "进入 App， 在底部“学习”中点击“学习心得”中的“查看全部”，选中任何一条学习心得，点击右上角的分享键，将它分享出去，新用户扫描上面的二维码注册，你和对方均可以获得 2 天的时长。"
   ]
  },
  {
   "cell_type": "markdown",
   "metadata": {},
   "source": [
    "**相关问题**：[什么是时长兑换码（赠送时长）？怎么获取兑时长兑换码？](6. 学习时长及付费.ipynb?anchor=q9)"
   ]
  },
  {
   "cell_type": "markdown",
   "metadata": {},
   "source": [
    "### 怎么通过分享成就勋章注册 xue.cn 获得邀请奖励？\n",
    "<a id='q50'></a>"
   ]
  },
  {
   "cell_type": "markdown",
   "metadata": {},
   "source": [
    "web 端（电脑网页登录）"
   ]
  },
  {
   "cell_type": "markdown",
   "metadata": {},
   "source": [
    "登录 xue.cn 后，点击右上角的隐藏菜单栏，在“学习中心”左侧点击“我的成就勋章”中“查看所有成就”，然后点击任何一个你获得的成就勋章就会生成一个比较大的图片，点击图片下方的“分享我的成就”，就生成可以分享的图片（见下图），将它分享出去，新用户扫描上面的二维码注册，你和对方均可以获得 2 天的时长。"
   ]
  },
  {
   "cell_type": "markdown",
   "metadata": {},
   "source": [
    "<img width=\"375\" height=\"617\" src=\"https://user-images.githubusercontent.com/31980259/85347491-52776900-b52b-11ea-985b-62dcb82538f0.png\" />"
   ]
  },
  {
   "cell_type": "markdown",
   "metadata": {},
   "source": [
    "App 端"
   ]
  },
  {
   "cell_type": "markdown",
   "metadata": {},
   "source": [
    "进入 App， 在底部“我的”中点击“成就勋章”，其他操作同 web 端。"
   ]
  },
  {
   "cell_type": "markdown",
   "metadata": {},
   "source": [
    "**相关问题**：[什么是时长兑换码（赠送时长）？怎么获取兑时长兑换码？](6. 学习时长及付费.ipynb?anchor=q9)"
   ]
  },
  {
   "cell_type": "markdown",
   "metadata": {},
   "source": [
    "### 怎么通过分享书籍注册 xue.cn 获得邀请奖励？\n",
    "<a id='q51'></a>"
   ]
  },
  {
   "cell_type": "markdown",
   "metadata": {},
   "source": [
    "web 端（电脑网页登录）"
   ]
  },
  {
   "cell_type": "markdown",
   "metadata": {},
   "source": [
    "登录 xue.cn 后，点击右上角的隐藏菜单栏，在“访问 XUE.cn 书库”点击想要分享的书籍的内容简介，然后点击“作者介绍”下方的“邀请好友一起免费读’键（见下图）”就会生成可以分享的图片，将它分享出去，新用户扫描上面的二维码注册，你和对方均可以获得 2 天的时长。"
   ]
  },
  {
   "cell_type": "markdown",
   "metadata": {},
   "source": [
    "<img width=\"960\" height=\"356\" src=\"https://user-images.githubusercontent.com/31980259/85348402-14c80f80-b52e-11ea-9561-79343e7c6d3e.png\" />"
   ]
  },
  {
   "cell_type": "markdown",
   "metadata": {},
   "source": [
    "App 端"
   ]
  },
  {
   "cell_type": "markdown",
   "metadata": {},
   "source": [
    "进入 App，在底部“书库”中点击想要分享的书籍的内容简介，点击右上角的“分享”键（见下图），其他操作同 web 端。"
   ]
  },
  {
   "cell_type": "markdown",
   "metadata": {},
   "source": [
    "<img width=\"536\" height=\"1056\" src=\"https://user-images.githubusercontent.com/31980259/85349114-2ad6cf80-b530-11ea-9d4d-397a6c787d25.png\" />"
   ]
  },
  {
   "cell_type": "markdown",
   "metadata": {},
   "source": [
    "**相关问题**：[什么是时长兑换码（赠送时长）？怎么获取兑时长兑换码？](6. 学习时长及付费.ipynb?anchor=q9)"
   ]
  }
 ],
 "metadata": {
  "kernelspec": {
   "display_name": "Python 3",
   "language": "python",
   "name": "python3"
  },
  "language_info": {
   "codemirror_mode": {
    "name": "ipython",
    "version": 3
   },
   "file_extension": ".py",
   "mimetype": "text/x-python",
   "name": "python",
   "nbconvert_exporter": "python",
   "pygments_lexer": "ipython3",
   "version": "3.7.3"
  }
 },
 "nbformat": 4,
 "nbformat_minor": 2
}