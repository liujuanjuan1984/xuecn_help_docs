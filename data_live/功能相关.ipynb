{
 "cells": [
  {
   "cell_type": "markdown",
   "metadata": {},
   "source": [
    "## 功能相关"
   ]
  },
  {
   "cell_type": "markdown",
   "metadata": {},
   "source": [
    "### 我需要在评论区花费精力吗？\n",
    "<a id='q19'></a>"
   ]
  },
  {
   "cell_type": "markdown",
   "metadata": {},
   "source": [
    "每位学习者有自己的习惯和偏好。"
   ]
  },
  {
   "cell_type": "markdown",
   "metadata": {},
   "source": [
    "目前已有不少学习者在书籍每个章节或每道习题下，分享自己的学习感想、进展心得、答题笔记等，也有部分学习者通过评论区求助请教并得到其他同学的解答或回应。"
   ]
  },
  {
   "cell_type": "markdown",
   "metadata": {},
   "source": [
    "对于高质量的学习来说，光有阅读是不够的，我们建议您参阅评论，从中汲取能量、经验或者互帮互助。"
   ]
  },
  {
   "cell_type": "markdown",
   "metadata": {},
   "source": [
    "为了鼓励优质的评论产生，我们也为此设计开发了一些有趣的功能，欢迎探索评论区。"
   ]
  },
  {
   "cell_type": "markdown",
   "metadata": {},
   "source": [
    "### 网页上阅读器左边的一排图标是干什么用的？\n",
    "<a id='q18'></a>"
   ]
  },
  {
   "cell_type": "markdown",
   "metadata": {},
   "source": [
    "点击试试看吧！"
   ]
  },
  {
   "cell_type": "markdown",
   "metadata": {},
   "source": [
    "这些图标，是一些帮助用户提高自学效率的小组件，比如书籍目录、打卡+学习心得、自学攻略、习题、章节评论等。在网页上使用 xue.cn 时，你可以在阅读书籍的同时，查看目录、攻略、习题、章节评论呢。"
   ]
  },
  {
   "cell_type": "markdown",
   "metadata": {},
   "source": [
    "### 打卡和学习心得有什么用？\n",
    "<a id='q25'></a>"
   ]
  },
  {
   "cell_type": "markdown",
   "metadata": {},
   "source": [
    "所有用户，包括免费用户都可以使用 xue.cn 的[打卡+学习心得](https://xue.cn/hub/app/attendance) 功能。"
   ]
  },
  {
   "cell_type": "markdown",
   "metadata": {},
   "source": [
    "用户使用该自学工具，可每天打卡今天是否阅读打到 30 分钟，还能写上一条心得体会（还能随时编辑完善）。每条心得都能设置是否对外可见，是否展示到个人学习主页，还能生成漂亮的卡片分享出去。"
   ]
  },
  {
   "cell_type": "markdown",
   "metadata": {},
   "source": [
    "打卡与记录，有助于提升学习效果，为此 xue.cn 也对打卡+撰写心得的学习行为，投放[学力值](https://xue.cn/hub/app/point)予以鼓励。"
   ]
  },
  {
   "cell_type": "markdown",
   "metadata": {},
   "source": [
    "**相关问题**：[什么是学力值？学力值怎么获得？学力值可以干什么？](#q15)"
   ]
  },
  {
   "cell_type": "markdown",
   "metadata": {},
   "source": [
    "### 如何查看自学攻略？\n",
    "<a id='q26'></a>"
   ]
  },
  {
   "cell_type": "markdown",
   "metadata": {},
   "source": [
    "XUE.cn 的学习内容主要为书籍。书的特点是信息量大，信息接收高效，方便反复查阅。但我们也常常遇到在一开始无法“看进去”一本书的问题，XUE.cn 为此推出“自学攻略”，遇到不好啃的书不妨先看看自学攻略，应该怎么把这本书“看进去”、“看下去”。"
   ]
  },
  {
   "cell_type": "markdown",
   "metadata": {},
   "source": [
    "自学攻略既有“官方攻略”，也有每个章节下被用户们主动选出的优质评论。"
   ]
  },
  {
   "cell_type": "markdown",
   "metadata": {},
   "source": [
    "每本书每个章节，都有自学攻略模块，可进入阅读器后找到它。"
   ]
  },
  {
   "cell_type": "markdown",
   "metadata": {},
   "source": [
    "如果某个书籍章节暂时没有充足的“自学攻略”，您也可以敬请“开荒”，记录自己的心得，启迪后来学习者。"
   ]
  },
  {
   "cell_type": "markdown",
   "metadata": {},
   "source": [
    "### 运行代码后提示 “代码执行失败”，怎么办？\n",
    "<a id='q35'></a>"
   ]
  },
  {
   "cell_type": "markdown",
   "metadata": {},
   "source": [
    "排除了网络连接不畅的情况下，可以点击阅读器上方的‘重启阅读器’按键。出现代码执行异常的时候，重启该阅读器基本都可以解决问题。"
   ]
  },
  {
   "cell_type": "markdown",
   "metadata": {},
   "source": [
    "如若上述方式都不能解决问题，可以联系工作人员（微信号 xue_oneone 或 cgq144）反馈。"
   ]
  },
  {
   "cell_type": "markdown",
   "metadata": {},
   "source": [
    "### 什么是时长兑换码（赠送时长）？怎么获取兑时长兑换码？\n",
    "<a id='q9'></a>"
   ]
  },
  {
   "cell_type": "markdown",
   "metadata": {},
   "source": [
    "时长兑换码是由一组字母和数字组成的号码。"
   ]
  },
  {
   "cell_type": "markdown",
   "metadata": {},
   "source": [
    "可以访问“[我的时长及订单](https://xue.cn/hub/app/orders)”页找到“兑换时长（含礼品卡）”，输入兑换码获取学习时长（简称 u），每个兑换码只能兑换一次，兑换成功后该兑换码即刻失效，可在“我的兑换码”页查看你的兑换码。"
   ]
  },
  {
   "cell_type": "markdown",
   "metadata": {},
   "source": [
    "获取时长兑换码的方式：购买“礼品卡”，将获得额外的时长兑换码，礼品卡可自用也可作为礼物送给他人。"
   ]
  },
  {
   "cell_type": "markdown",
   "metadata": {},
   "source": [
    "### Jupyter Lab 是什么？我怎么没看到它在哪里？\n",
    "<a id='q16'></a>"
   ]
  },
  {
   "cell_type": "markdown",
   "metadata": {},
   "source": [
    "Jupyter Lab 是一个基于浏览器的开源应用，开放性扩展性非常强，用途非常广泛：在线笔记、团队协作、操作终端、文件浏览、富文本输出等等。 "
   ]
  },
  {
   "cell_type": "markdown",
   "metadata": {},
   "source": [
    "XUE.cn 的工程师基于 Jupyter Lab 开发了 XUE.cn 书籍阅读器。用户可以在阅读器里修改编写代码并运行，还有多种小组件给用户带来高效的自学体验。"
   ]
  },
  {
   "cell_type": "markdown",
   "metadata": {},
   "source": [
    "### 阅读器怎么用？\n",
    "<a id='q17'></a>"
   ]
  },
  {
   "cell_type": "markdown",
   "metadata": {},
   "source": [
    "单击书中的代码块就可以编辑代码，点击代码块右上角上方的小按钮就可以运行、停止、重置和复制代码了，运行完毕后，结果将会显示在代码块下方。"
   ]
  },
  {
   "cell_type": "markdown",
   "metadata": {},
   "source": [
    "阅读器顶部还有更多按钮，包括增加、删除代码块、重置阅读器、放大缩小字体和翻页等，请大胆尝试吧！"
   ]
  },
  {
   "cell_type": "markdown",
   "metadata": {},
   "source": [
    "### 我可以在 XUE.cn 发布书籍吗？怎样发布书籍？\n",
    "<a id='q23'></a>"
   ]
  },
  {
   "cell_type": "markdown",
   "metadata": {},
   "source": [
    "可以！XUE.cn 欢迎各位作者贡献优质内容。请您联系我们的工作人员（微信号 xue_oneone 或 cgq144）接触洽谈。"
   ]
  },
  {
   "cell_type": "markdown",
   "metadata": {},
   "source": [
    "### 为什么书籍加载到 95% 卡住了？\n",
    "<a id='q36'></a>"
   ]
  },
  {
   "cell_type": "markdown",
   "metadata": {},
   "source": [
    "XUE.cn 的阅读器是一个基于 Jupyter Lab 的云端学习环境，部分超大章节的加载可能稍慢，请耐心等待。"
   ]
  },
  {
   "cell_type": "markdown",
   "metadata": {},
   "source": [
    "如果几分钟后您依然打不开网页，请按以下步骤操作："
   ]
  },
  {
   "cell_type": "markdown",
   "metadata": {},
   "source": [
    "▷ XUE.cn 服务器布置在国内，可以尝试关闭代理设置；"
   ]
  },
  {
   "cell_type": "markdown",
   "metadata": {},
   "source": [
    "▷ 刷新页面，如果刷新页面没有改善，可以尝试退出后重新登录；"
   ]
  },
  {
   "cell_type": "markdown",
   "metadata": {},
   "source": [
    "▷ 清理浏览器缓存或更换浏览器登录，我们比较推荐 Chrome 浏览器；"
   ]
  },
  {
   "cell_type": "markdown",
   "metadata": {},
   "source": [
    "▷ 如果上述方法都不能解决您的问题，可以联系工作人员（微信号 xue_oneone 或 cgq144），我们会在第一时间帮助您解决问题。"
   ]
  },
  {
   "cell_type": "markdown",
   "metadata": {},
   "source": [
    "**相关问题**：[XUE.cn 网页打不开或者打开很慢怎么办？](平台使用相关.ipynb?anchor=q6)"
   ]
  },
  {
   "cell_type": "markdown",
   "metadata": {},
   "source": [
    "### 什么是学力值？学力值怎么获得？学力值可以干什么？\n",
    "<a id='q15'></a>"
   ]
  },
  {
   "cell_type": "markdown",
   "metadata": {},
   "source": [
    "您可以访问“[我的学力值](https://xue.cn/hub/app/point)”页面查看自己的学力值获得流水，或兑换学习时长。"
   ]
  },
  {
   "cell_type": "markdown",
   "metadata": {},
   "source": [
    "XUE.cn 推出学力值，是为了鼓励用户的自学相关行为，类似于有效学习行为产生的积分。"
   ]
  },
  {
   "cell_type": "markdown",
   "metadata": {},
   "source": [
    "主要有两类获得学力值的方法："
   ]
  },
  {
   "cell_type": "markdown",
   "metadata": {},
   "source": [
    "▷ 通过自学行为如：按计划打卡、写学习心得；"
   ]
  },
  {
   "cell_type": "markdown",
   "metadata": {},
   "source": [
    "▷ 通过参与和贡献行为如：分享心得、参与讨论、参与问答（即将上线）。"
   ]
  },
  {
   "cell_type": "markdown",
   "metadata": {},
   "source": [
    "学力值可以用来兑换学习时长（时长兑换码）："
   ]
  },
  {
   "cell_type": "markdown",
   "metadata": {},
   "source": [
    "120 pt 学力值可兑换 1U 时长，每周最多只能兑 10U 时长， 每次最少兑换 3U，也就是说，学力值最少要达到 360pt，才能参与兑换时长。"
   ]
  }
 ],
 "metadata": {
  "kernelspec": {
   "display_name": "Python 3",
   "language": "python",
   "name": "python3"
  },
  "language_info": {
   "codemirror_mode": {
    "name": "ipython",
    "version": 3
   },
   "file_extension": ".py",
   "mimetype": "text/x-python",
   "name": "python",
   "nbconvert_exporter": "python",
   "pygments_lexer": "ipython3",
   "version": "3.7.4"
  }
 },
 "nbformat": 4,
 "nbformat_minor": 2
}