{
 "cells": [
  {
   "cell_type": "markdown",
   "metadata": {},
   "source": [
    "## 功能相关"
   ]
  },
  {
   "cell_type": "markdown",
   "metadata": {},
   "source": [
    "### 章节评论中说点什么好呢？\n",
    "<a id='q19'></a>"
   ]
  },
  {
   "cell_type": "markdown",
   "metadata": {},
   "source": [
    "阅读器左边有一栏小组件，其中有个章节评论小组件，书本的每一章节都会有一组单独的评论页。可以针对章节内容写下自己的感想，如果有不懂的地方也可以在章节讨论中留言，会有很多热心同学回复。当然你也可以回复别人的疑问。总之一切和章节内容相关的留言都可以发布在章节评论里。"
   ]
  },
  {
   "cell_type": "markdown",
   "metadata": {},
   "source": [
    "### 阅读器左边的一排图标是干什么用的？\n",
    "<a id='q18'></a>"
   ]
  },
  {
   "cell_type": "markdown",
   "metadata": {},
   "source": [
    "是一些帮助用户提高自学效率的小组件，比如有目录、打卡+学习心得、自学攻略、习题、章节评论等。这些组件都会在阅读器旁边打开，不会跳转到别的页面干扰阅读，可以放心体验。"
   ]
  },
  {
   "cell_type": "markdown",
   "metadata": {},
   "source": [
    "### 打卡计划和学习心得有什么用？\n",
    "<a id='q25'></a>"
   ]
  },
  {
   "cell_type": "markdown",
   "metadata": {},
   "source": [
    "我们可以给自己制定学习计划，利用计划督促我们每天学习一点点。完成了每天的打卡计划，可以再写上一段心得体会，它会留存在“我的主页”，还可以生成漂亮的卡片分享出去。这些学习活动还可以挣得学力值，而学力值是可以兑换学习资源的。"
   ]
  },
  {
   "cell_type": "markdown",
   "metadata": {},
   "source": [
    "**相关问题**：[什么是学力值？学力值怎么获得？学力值可以干什么？](#q15)"
   ]
  },
  {
   "cell_type": "markdown",
   "metadata": {},
   "source": [
    "### 学习攻略是干什么的？\n",
    "<a id='q26'></a>"
   ]
  },
  {
   "cell_type": "markdown",
   "metadata": {},
   "source": [
    "XUE.cn 的学习内容主要为书籍。书的特点是信息量大，信息接收高效，方便反复查阅。但我们也常常遇到在一开始无法“看进去”一本书的问题，XUE.cn 为此推出“学习攻略”，遇到不好啃的书不妨先看看学习攻略，应该怎么把这本书“看进去”、“看下去”。"
   ]
  },
  {
   "cell_type": "markdown",
   "metadata": {},
   "source": [
    "### 运行书中或者习题代码后提示：代码执行失败 ，怎么办？\n",
    "<a id='q35'></a>"
   ]
  },
  {
   "cell_type": "markdown",
   "metadata": {},
   "source": [
    "排除了网络连接不畅的情况下，可以点击阅读器上方的‘重启阅读器’按键。出现代码执行异常的时候，重启该阅读器基本都可以解决问题。"
   ]
  },
  {
   "cell_type": "markdown",
   "metadata": {},
   "source": [
    "如若上述方式都不能解决问题，可以联系客服：依依@xue.cn hello world！（微信号：xue_oneone）"
   ]
  },
  {
   "cell_type": "markdown",
   "metadata": {},
   "source": [
    "### 什么是时长兑换码（赠送时长）？怎么获取兑时长兑换码？\n",
    "<a id='q9'></a>"
   ]
  },
  {
   "cell_type": "markdown",
   "metadata": {},
   "source": [
    "时长兑换码兑换码是由一组字母和数字组成的号码。"
   ]
  },
  {
   "cell_type": "markdown",
   "metadata": {},
   "source": [
    "通过兑换窗口，可以用来充值兑换 xue.cn 学习资源（学习时长），每个兑换码只能兑换一次，充值成功后该兑换码即刻失效。"
   ]
  },
  {
   "cell_type": "markdown",
   "metadata": {},
   "source": [
    "获取时长兑换码的方式："
   ]
  },
  {
   "cell_type": "markdown",
   "metadata": {},
   "source": [
    "▷ 关注 PRESS.one 社群或 xue.cn 学习群，参加社群或学习群举办的活动，获得奖励的时长兑换码；"
   ]
  },
  {
   "cell_type": "markdown",
   "metadata": {},
   "source": [
    "▷ 在使用 XUE.cn 学习中，发现并反馈产品中的 bug，为产品提供建设性意见，获赠时长兑换码；"
   ]
  },
  {
   "cell_type": "markdown",
   "metadata": {},
   "source": [
    "▷ 通过阅读、做题、评论等有效学习行为，获得学力值，使用学力值兑换时长兑换码；"
   ]
  },
  {
   "cell_type": "markdown",
   "metadata": {},
   "source": [
    "▷ 购买“时长兑换礼品卡”，也可以获得时长兑换码，而且礼品卡也可以作为礼物送给他人；"
   ]
  },
  {
   "cell_type": "markdown",
   "metadata": {},
   "source": [
    "▷ 上述只是众多获得时长兑换码方式中的几个，持续关注我们，会有更多机会获得时长兑换码。"
   ]
  },
  {
   "cell_type": "markdown",
   "metadata": {},
   "source": [
    "### Jupyter Lab 是什么？我怎么没看到它在哪里？\n",
    "<a id='q16'></a>"
   ]
  },
  {
   "cell_type": "markdown",
   "metadata": {},
   "source": [
    "Jupyter Lab 是一个基于浏览器的开源应用，开放性扩展性非常强，用途非常广泛：在线笔记、团队协作、操作终端、文件浏览、富文本输出等等。 "
   ]
  },
  {
   "cell_type": "markdown",
   "metadata": {},
   "source": [
    "XUE.cn 的工程师基于 Jupyter Lab 开发了 XUE.cn 书籍阅读器。用户可以在阅读器里修改编写代码并运行，还有多种小组件给用户带来高效的自学体验。"
   ]
  },
  {
   "cell_type": "markdown",
   "metadata": {},
   "source": [
    "### 阅读器怎么用？\n",
    "<a id='q17'></a>"
   ]
  },
  {
   "cell_type": "markdown",
   "metadata": {},
   "source": [
    "单击书中的代码块就可以编辑代码，点击代码块右上角上方的小按钮就可以运行、停止、重置和复制代码了，运行完毕后，结果将会显示在代码块下方。"
   ]
  },
  {
   "cell_type": "markdown",
   "metadata": {},
   "source": [
    "阅读器顶部还有更多按钮，包括增加、删除代码块、重置阅读器、放大缩小字体和翻页等，请大胆尝试吧！"
   ]
  },
  {
   "cell_type": "markdown",
   "metadata": {},
   "source": [
    "### 我可以在 XUE.cn 发布书籍吗？怎样发布书籍？\n",
    "<a id='q23'></a>"
   ]
  },
  {
   "cell_type": "markdown",
   "metadata": {},
   "source": [
    "可以，XUE.cn 非常欢迎作者贡献优质内容。"
   ]
  },
  {
   "cell_type": "markdown",
   "metadata": {},
   "source": [
    "XUE.cn 的书籍以 `.ipynb` 格式发布在阅读器中，需要遵循一些特定的内容格式、目录格式、习题设计等。"
   ]
  },
  {
   "cell_type": "markdown",
   "metadata": {},
   "source": [
    "我们目前的书籍发布还比较依赖人工处理，所以需要你主动联系我们洽谈合作。"
   ]
  },
  {
   "cell_type": "markdown",
   "metadata": {},
   "source": [
    "联系方式："
   ]
  },
  {
   "cell_type": "markdown",
   "metadata": {},
   "source": [
    "▷ 依依@xue.cn hello world！（微信：xue_oneone）"
   ]
  },
  {
   "cell_type": "markdown",
   "metadata": {},
   "source": [
    "▷ 刘娟娟🍀PRESS.ONE（微信：qiaoanlu）"
   ]
  },
  {
   "cell_type": "markdown",
   "metadata": {},
   "source": [
    "▷ 五星红旗@PRESSone（微信：cgq144）"
   ]
  },
  {
   "cell_type": "markdown",
   "metadata": {},
   "source": [
    "### 为什么书籍加载到 95% 卡住了？\n",
    "<a id='q36'></a>"
   ]
  },
  {
   "cell_type": "markdown",
   "metadata": {},
   "source": [
    "XUE.cn 的阅读器是一个基于 Jupyter Lab 的云端学习环境，第一次的加载时间可能会持续一分钟，还请耐心等待。"
   ]
  },
  {
   "cell_type": "markdown",
   "metadata": {},
   "source": [
    "如果还是打不开网页，请按以下步骤操作："
   ]
  },
  {
   "cell_type": "markdown",
   "metadata": {},
   "source": [
    "▷ XUE.cn 服务器布置在国内，可以尝试关闭代理设置；"
   ]
  },
  {
   "cell_type": "markdown",
   "metadata": {},
   "source": [
    "▷ 刷新页面，如果刷新页面没有改善，可以尝试退出后重新登录；"
   ]
  },
  {
   "cell_type": "markdown",
   "metadata": {},
   "source": [
    "▷ 清理浏览器缓存或更换浏览器登录，我们比较推荐 Chrome 浏览器；"
   ]
  },
  {
   "cell_type": "markdown",
   "metadata": {},
   "source": [
    "▷ 如果上述方法都不能解决您的问题，可以联系客服：依依@xue.cn hello world！（微信号：xue_oneone），我们会在第一时间解决您的问题。"
   ]
  },
  {
   "cell_type": "markdown",
   "metadata": {},
   "source": [
    "**相关问题**：[XUE.cn 网页打不开或者打开很慢怎么办？](平台使用相关.ipynb?anchor=q6)"
   ]
  },
  {
   "cell_type": "markdown",
   "metadata": {},
   "source": [
    "### 什么是学力值？学力值怎么获得？学力值可以干什么？\n",
    "<a id='q15'></a>"
   ]
  },
  {
   "cell_type": "markdown",
   "metadata": {},
   "source": [
    "XUE.cn 推出学力值以鼓励用户的自学和参与行为，类似于有效学习行为产生的积分。"
   ]
  },
  {
   "cell_type": "markdown",
   "metadata": {},
   "source": [
    "主要有两类获得学力值的方法："
   ]
  },
  {
   "cell_type": "markdown",
   "metadata": {},
   "source": [
    "▷ 通过自学行为如：按计划打卡、写学习心得；"
   ]
  },
  {
   "cell_type": "markdown",
   "metadata": {},
   "source": [
    "▷ 通过参与和贡献行为如：分享心得、参与讨论、参与问答（即将上线）。"
   ]
  },
  {
   "cell_type": "markdown",
   "metadata": {},
   "source": [
    "学力值可以用来兑换学习资源（时长兑换码）："
   ]
  },
  {
   "cell_type": "markdown",
   "metadata": {},
   "source": [
    "120 pt 学力值可兑换 1U 时长，每周最多只能兑 10U 时长， 每次最少兑换 3U，也就是说，学力值最少要达到 360pt，才能参与兑换时长。"
   ]
  }
 ],
 "metadata": {
  "kernelspec": {
   "display_name": "Python 3",
   "language": "python",
   "name": "python3"
  },
  "language_info": {
   "codemirror_mode": {
    "name": "ipython",
    "version": 3
   },
   "file_extension": ".py",
   "mimetype": "text/x-python",
   "name": "python",
   "nbconvert_exporter": "python",
   "pygments_lexer": "ipython3",
   "version": "3.7.4"
  }
 },
 "nbformat": 4,
 "nbformat_minor": 2
}