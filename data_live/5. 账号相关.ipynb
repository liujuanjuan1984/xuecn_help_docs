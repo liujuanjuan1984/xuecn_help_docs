{
 "cells": [
  {
   "cell_type": "markdown",
   "metadata": {},
   "source": [
    "## 5. 账号相关"
   ]
  },
  {
   "cell_type": "markdown",
   "metadata": {},
   "source": [
    "### XUE.cn 有试学功能吗？\n",
    "<a id='q7'></a>"
   ]
  },
  {
   "cell_type": "markdown",
   "metadata": {},
   "source": [
    "XUE.cn 为您提供了试学功能。"
   ]
  },
  {
   "cell_type": "markdown",
   "metadata": {},
   "source": [
    "在没有学习时长的情况下，您可以[阅读书籍](https://xue.cn/hub/app/books/1)、[打卡+学习心得](https://xue.cn/hub/app/attendance)、[习题](https://xue.cn/hub/app/exercise/1)、[挑战答题](https://xue.cn/hub/app/quiz)等方式赚取学力值来[兑换学习时长](https://xue.cn/hub/app/point)，也可直接通过[系统通知](https://xue.cn/hub/app/notification?tab=3)参与站内活动直接获得学习时长。"
   ]
  },
  {
   "cell_type": "markdown",
   "metadata": {},
   "source": [
    "勤奋的同学，完全可以通过以上途径，赚取到够用的学习时长。当然，当您试学之后，发现 xue.cn 很适合您，欢迎[直接购买学习时长](https://xue.cn/hub/app/orders) 开启持续自学之旅。"
   ]
  },
  {
   "cell_type": "markdown",
   "metadata": {},
   "source": [
    "### 从权限来分，XUE.cn 有几类用户，各有什么权限？\n",
    "<a id='q39'></a>"
   ]
  },
  {
   "cell_type": "markdown",
   "metadata": {},
   "source": [
    "目前为止，一共有三类用户："
   ]
  },
  {
   "cell_type": "markdown",
   "metadata": {},
   "source": [
    "<font weight=600>1、付费模式，已登录，剩余时长不为 0 的用户：</font>"
   ]
  },
  {
   "cell_type": "markdown",
   "metadata": {},
   "source": [
    "▷ 所有已有功能均可使用。"
   ]
  },
  {
   "cell_type": "markdown",
   "metadata": {},
   "source": [
    "<font weight=600>2、欠费模式，已登录，但剩余时长为 0 的用户：</font>"
   ]
  },
  {
   "cell_type": "markdown",
   "metadata": {},
   "source": [
    "▷ 容器无法启动，不能运行或新建 code cell，但可以查看已有的代码。"
   ]
  },
  {
   "cell_type": "markdown",
   "metadata": {},
   "source": [
    "▷ 无法阅读书籍的收费阅读章节，但可以阅读免费或试读章节。"
   ]
  },
  {
   "cell_type": "markdown",
   "metadata": {},
   "source": [
    "▷ 习题练习中编程题不能运行及提交代码，但其它题型不受影响。"
   ]
  },
  {
   "cell_type": "markdown",
   "metadata": {},
   "source": [
    "▷ 挑战答题不能运行，但可以只能查看/回顾挑战历史。"
   ]
  },
  {
   "cell_type": "markdown",
   "metadata": {},
   "source": [
    "▷ 章节和习题评论只能查看评论，不能发布。"
   ]
  },
  {
   "cell_type": "markdown",
   "metadata": {},
   "source": [
    "▷ 我的笔记本、我的学力值、阅读时长记录 、我的学习动态、我的学习报告、成就系统 、我的学习主页、分享功能、我的书 架、打卡和学习心得、书库页面、查看我的评论与通知、我的时长与订单、我的账号设置、礼品卡购买和自学攻略的功能不受影响。"
   ]
  },
  {
   "cell_type": "markdown",
   "metadata": {},
   "source": [
    "<font weight=600>3、游客模式，未登录的用户：</font>"
   ]
  },
  {
   "cell_type": "markdown",
   "metadata": {},
   "source": [
    "▷ 容器无法启动，不能运行或新建 code cell，但可以查看已有的代码。"
   ]
  },
  {
   "cell_type": "markdown",
   "metadata": {},
   "source": [
    "▷ 无法阅读书籍的收费阅读章节，但可以阅读免费或试读章节。"
   ]
  },
  {
   "cell_type": "markdown",
   "metadata": {},
   "source": [
    "▷ 习题练习中编程题不能运行及提交代码，但其它题型不受影响。"
   ]
  },
  {
   "cell_type": "markdown",
   "metadata": {},
   "source": [
    "▷ 章节和习题评论只能查看评论，不能发布。"
   ]
  },
  {
   "cell_type": "markdown",
   "metadata": {},
   "source": [
    "▷ 我的笔记本、打卡和学习心得、我的学力值、阅读时长记录 、我的学习动态、我的学习报告、成就系统 、我的学习主页、分享功能、挑战答题、我的书架、我的评论与通知、我的时长与订单、我的账号设置和礼品卡购买的功能均无法使用。"
   ]
  },
  {
   "cell_type": "markdown",
   "metadata": {},
   "source": [
    "▷ 书库页面和自学攻略的功能不受影响。"
   ]
  },
  {
   "cell_type": "markdown",
   "metadata": {},
   "source": [
    "### XUE.cn 账户怎么购买 XUE 服务？\n",
    "<a id='q44'></a>"
   ]
  },
  {
   "cell_type": "markdown",
   "metadata": {},
   "source": [
    "登入后访问 用户菜单 - [我的时长及订单](https://xue.cn/hub/app/orders) 点击“续订 XUE 服务”即可。"
   ]
  },
  {
   "cell_type": "markdown",
   "metadata": {},
   "source": [
    "**相关问题**：[购买了学习时长，能够享受到具体哪些服务？](6. 学习时长及付费.ipynb?anchor=q37)"
   ]
  },
  {
   "cell_type": "markdown",
   "metadata": {},
   "source": [
    "### 手机号注册的账号和 github 注册的账号能关联吗？\n",
    "<a id='q38'></a>"
   ]
  },
  {
   "cell_type": "markdown",
   "metadata": {},
   "source": [
    "不能。"
   ]
  },
  {
   "cell_type": "markdown",
   "metadata": {},
   "source": [
    "目前 XUE.cn 不再支持新用户通过自己的 github 账号授权注册 xue.cn，但您可采用手机号或邮箱来注册 xue.cn 账号。"
   ]
  },
  {
   "cell_type": "markdown",
   "metadata": {},
   "source": [
    "已经采用 github 授权登录过 xue.cn 的用户，请访问[登录页](https://xue.cn/hub/app/login?next=/)根据页面提示，完成 github 账号迁移。"
   ]
  },
  {
   "cell_type": "markdown",
   "metadata": {},
   "source": [
    "### Github 注册账号怎样迁移到邮箱或手机注册账号？\n",
    "<a id='q52'></a>"
   ]
  },
  {
   "cell_type": "markdown",
   "metadata": {},
   "source": [
    "说明："
   ]
  },
  {
   "cell_type": "markdown",
   "metadata": {},
   "source": [
    "▷ 迁移时间为迁移功能发布日至 9 月 1 日 ；"
   ]
  },
  {
   "cell_type": "markdown",
   "metadata": {},
   "source": [
    "▷ 9 月 1 日后 Xue.cn 不再提供 Github 登录方式；"
   ]
  },
  {
   "cell_type": "markdown",
   "metadata": {},
   "source": [
    "▷ 迁移功能发布日之前通过 Github 注册的账号在 9 月 1 日之前完成迁移的都将获得 60U 的时长奖励；"
   ]
  },
  {
   "cell_type": "markdown",
   "metadata": {},
   "source": [
    "▷ 迁移功能发布日至 9 月 1 日 之间 Github 注册的账号不能迁移；"
   ]
  },
  {
   "cell_type": "markdown",
   "metadata": {},
   "source": [
    "▷ 如果被迁移的账号是新注册的，里面没有数据，会把 github 账号内的所有数据都迁移到新账号；"
   ]
  },
  {
   "cell_type": "markdown",
   "metadata": {},
   "source": [
    "▷ 如果是已经注册了一定时间的账号只会迁移时长，其他数据不会迁移，所以最好把学力值兑换成时长迁移过去。"
   ]
  },
  {
   "cell_type": "markdown",
   "metadata": {},
   "source": [
    "迁移方法："
   ]
  },
  {
   "cell_type": "markdown",
   "metadata": {},
   "source": [
    "▷ 打开 Xue.cn 登录页面，点击‘使用 Github 账号登录（见下图）；"
   ]
  },
  {
   "cell_type": "markdown",
   "metadata": {},
   "source": [
    "<img width=\"1069\" height=\"1584\" src=\"https://user-images.githubusercontent.com/52018806/87008685-b7eb7b00-c1f6-11ea-819c-5660c06f9191.png\" />"
   ]
  },
  {
   "cell_type": "markdown",
   "metadata": {},
   "source": [
    "▷ 点击 'Github 登录快速迁移‘（见下图）；"
   ]
  },
  {
   "cell_type": "markdown",
   "metadata": {},
   "source": [
    "<img width=\"1067\" height=\"1443\" src=\"https://user-images.githubusercontent.com/52018806/87009060-3f38ee80-c1f7-11ea-9d6d-6ead2f47743b.png\" />"
   ]
  },
  {
   "cell_type": "markdown",
   "metadata": {},
   "source": [
    "▷ 输入你的 Github 账号名和密码，点击 'Sign in' (见下图）;"
   ]
  },
  {
   "cell_type": "markdown",
   "metadata": {},
   "source": [
    "<img width=\"1063\" height=\"1534\" src=\"https://user-images.githubusercontent.com/52018806/87009438-bec6bd80-c1f7-11ea-9ed4-67cb632e5e16.png\" />"
   ]
  },
  {
   "cell_type": "markdown",
   "metadata": {},
   "source": [
    "▷ 输入 Github 发给你的验证码（见下图），这个验证码发到了你注册 Github 时使用的邮箱里；"
   ]
  },
  {
   "cell_type": "markdown",
   "metadata": {},
   "source": [
    "<img width=\"1076\" height=\"918\" src=\"https://user-images.githubusercontent.com/52018806/87009733-2aa92600-c1f8-11ea-809f-4a5c480d9ce9.png\" />"
   ]
  },
  {
   "cell_type": "markdown",
   "metadata": {},
   "source": [
    "▷ 输入你要迁移的手机或邮箱账号，发送验证码，收到验证码后输入，然后点击‘确认迁移’（见下图）；"
   ]
  },
  {
   "cell_type": "markdown",
   "metadata": {},
   "source": [
    "<img width=\"1074\" height=\"1432\" src=\"https://user-images.githubusercontent.com/52018806/87010432-22051f80-c1f9-11ea-88f2-a539466319be.png\" />"
   ]
  },
  {
   "cell_type": "markdown",
   "metadata": {},
   "source": [
    "▷ 若迁移成功，会有一个‘迁移成功’的通知弹出（见下图），若不成功，请请联系工作人员（微信号 xue_oneone 或 cgq144）；"
   ]
  },
  {
   "cell_type": "markdown",
   "metadata": {},
   "source": [
    "<img width=\"1032\" height=\"491\" src=\"https://user-images.githubusercontent.com/52018806/87012660-254dda80-c1fc-11ea-959f-f8a4d9a437a4.png\" />"
   ]
  },
  {
   "cell_type": "markdown",
   "metadata": {},
   "source": [
    "▷ 迁移成功后，登入自己的新账号，打开'我的时长及订单'，在'时长'栏下面就会看到迁移奖励（见下图），至此，迁移完成！"
   ]
  },
  {
   "cell_type": "markdown",
   "metadata": {},
   "source": [
    "<img width=\"791\" height=\"235\" src=\"https://user-images.githubusercontent.com/52018806/87013182-d5234800-c1fc-11ea-9304-73a0637c99e4.png\" />"
   ]
  }
 ],
 "metadata": {
  "kernelspec": {
   "display_name": "Python 3",
   "language": "python",
   "name": "python3"
  },
  "language_info": {
   "codemirror_mode": {
    "name": "ipython",
    "version": 3
   },
   "file_extension": ".py",
   "mimetype": "text/x-python",
   "name": "python",
   "nbconvert_exporter": "python",
   "pygments_lexer": "ipython3",
   "version": "3.7.3"
  }
 },
 "nbformat": 4,
 "nbformat_minor": 2
}