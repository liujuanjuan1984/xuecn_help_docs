{
 "cells": [
  {
   "cell_type": "markdown",
   "metadata": {},
   "source": [
    "## 2. 学习方法与信心"
   ]
  },
  {
   "cell_type": "markdown",
   "metadata": {},
   "source": [
    "### 编程真的可以全靠自学吗？\n",
    "<a id='q27'></a>"
   ]
  },
  {
   "cell_type": "markdown",
   "metadata": {},
   "source": [
    "自学是一种很高效的学习方式，可以自己掌握学习进度，自行安排学习时间，阅读也比看教学视频接收的信息更全面，XUE.cn 的大量用户已经亲身体会到了自学的好处。[《自学是门手艺》](https://xue.cn/hub/app/books/1)这本书就是讲述，如何通过自学来掌握编程技能的。第 4 章有很多[自学成功者的自述故事](https://xue.cn/hub/reader?bookId=1&path=the-craft-of-selfteaching/Part.4.A.reader_junhong.ipynb)，将带给你更多鼓舞。"
   ]
  },
  {
   "cell_type": "markdown",
   "metadata": {},
   "source": [
    "### 我没有任何编程基础，能在 xue.cn 上学会编程吗？\n",
    "<a id='q28'></a>"
   ]
  },
  {
   "cell_type": "markdown",
   "metadata": {},
   "source": [
    "无论您是零基础、尚未开始学编程，还是已有一点基础、想要进一步提升编程技能，XUE.cn 都是您的极佳选择。"
   ]
  },
  {
   "cell_type": "markdown",
   "metadata": {},
   "source": [
    "如果需要唤醒自己的信心，立即开始阅读[《自学是门手艺》](https://xue.cn/hub/app/books/1)之[“为什么一定要掌握自学能力？”](https://xue.cn/hub/reader?bookId=1&path=the-craft-of-selfteaching/Part.1.A.better.teachyourself.ipynb) 是个不错的选择，此书极度适合编程入门、也适合编程之路上反复需要的心理建设。"
   ]
  },
  {
   "cell_type": "markdown",
   "metadata": {},
   "source": [
    "以下为本书节选："
   ]
  },
  {
   "cell_type": "markdown",
   "metadata": {},
   "source": [
    ">事实证明，编程就是无论是谁都能学会的 —— 千万别不信。"
   ]
  },
  {
   "cell_type": "markdown",
   "metadata": {},
   "source": [
    "> 它老少皆宜 —— 也就是说，“只要你愿意”，根本没有年龄差异。十二岁的孩子可以学；十八岁的大学生可以学；在职工作人员可以学…… 就算你已经退休了，想学就能学，谁也拦不住你。"
   ]
  },
  {
   "cell_type": "markdown",
   "metadata": {},
   "source": [
    "> 它也不分性别，男性可以学，女性同样可以学，性别差异在这里完全不存在。"
   ]
  },
  {
   "cell_type": "markdown",
   "metadata": {},
   "source": [
    "> 它也不分国界，更没有区域差异 —— 互联网的恩惠在于，你在北京、纽约也好，老头沟、门头沟也罢，在这个领域里同样完全没有任何具体差异。"
   ]
  },
  {
   "cell_type": "markdown",
   "metadata": {},
   "source": [
    "> 尤其是在中国。现状是，中国的人口密度极高，优质教育资源的确就是稀缺…… 但在计算机科学领域，所有的所谓 “优质教育资源” 事实上完全没有任何独特的竞争力 —— 编程领域，实际上是当今世上极为罕见的 “教育机会公平之地”。又不仅在中国如此，事实上，在全球范围内也都是如此。"
   ]
  },
  {
   "cell_type": "markdown",
   "metadata": {},
   "source": [
    " xue.cn 正在持续帮助大量用户通过自学掌握编程这项技能。"
   ]
  },
  {
   "cell_type": "markdown",
   "metadata": {},
   "source": [
    "### 学习中遇到困难、问题怎么办？\n",
    "<a id='q10'></a>"
   ]
  },
  {
   "cell_type": "markdown",
   "metadata": {},
   "source": [
    "如果在学习过程中遇到问题，可以："
   ]
  },
  {
   "cell_type": "markdown",
   "metadata": {},
   "source": [
    "▷ 先尝试自己解决，在解决问题的过程中，既加深了对知识的理解，又提升了自学能力，毕竟掌握自学能力比仅仅掌握知识更重要；"
   ]
  },
  {
   "cell_type": "markdown",
   "metadata": {},
   "source": [
    "▷ 在网上搜索解决方案，很多问题都可以在网上找到答案；"
   ]
  },
  {
   "cell_type": "markdown",
   "metadata": {},
   "source": [
    "▷ 如果以上两个方法都未解决问题，可以在“学习群”或章节下方 “章节评论” 留言提问，有经验的学友会为您提供帮助，解决您的问题。"
   ]
  },
  {
   "cell_type": "markdown",
   "metadata": {},
   "source": [
    "### 小孩子可以使用 XUE.cn 学习编程吗？\n",
    "<a id='q8'></a>"
   ]
  },
  {
   "cell_type": "markdown",
   "metadata": {},
   "source": [
    "XUE.cn 适合全年龄段的人，只要具备一定的阅读能力，都可以通过 XUE.cn 来学习编程。"
   ]
  },
  {
   "cell_type": "markdown",
   "metadata": {},
   "source": [
    "不过最好是家长和孩子一起学习，或者家长自己先学习，毕竟身教胜于言传。家长的学习行为一定会影响孩子，激发孩子对编程的兴趣，兴趣产生了，学习就水到渠成了。"
   ]
  },
  {
   "cell_type": "markdown",
   "metadata": {},
   "source": [
    "### 我需要在评论区花费精力吗？\n",
    "<a id='q19'></a>"
   ]
  },
  {
   "cell_type": "markdown",
   "metadata": {},
   "source": [
    "每位学习者有自己的习惯和偏好。"
   ]
  },
  {
   "cell_type": "markdown",
   "metadata": {},
   "source": [
    "目前已有不少学习者在书籍每个章节或每道习题下，分享自己的学习感想、进展心得、答题笔记等，也有部分学习者通过评论区求助请教并得到其他同学的解答或回应。"
   ]
  },
  {
   "cell_type": "markdown",
   "metadata": {},
   "source": [
    "对于高质量的学习来说，光有阅读是不够的，我们建议您参阅评论，从中汲取能量、经验或者互帮互助。"
   ]
  },
  {
   "cell_type": "markdown",
   "metadata": {},
   "source": [
    "为了鼓励优质的评论产生，我们也为此设计开发了一些有趣的功能，欢迎探索评论区。"
   ]
  }
 ],
 "metadata": {
  "kernelspec": {
   "display_name": "Python 3",
   "language": "python",
   "name": "python3"
  },
  "language_info": {
   "codemirror_mode": {
    "name": "ipython",
    "version": 3
   },
   "file_extension": ".py",
   "mimetype": "text/x-python",
   "name": "python",
   "nbconvert_exporter": "python",
   "pygments_lexer": "ipython3",
   "version": "3.7.3"
  }
 },
 "nbformat": 4,
 "nbformat_minor": 2
}