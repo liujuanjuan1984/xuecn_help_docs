{
 "cells": [
  {
   "cell_type": "markdown",
   "metadata": {},
   "source": [
    "## 学习相关"
   ]
  },
  {
   "cell_type": "markdown",
   "metadata": {},
   "source": [
    "### 我没有任何编程基础能在 XUE.cn 上学会什么？\n",
    "<a id='q28'></a>"
   ]
  },
  {
   "cell_type": "markdown",
   "metadata": {},
   "source": [
    "XUE.cn 专门针对业余编程学习者设计，在这里你能得到轻松快速上手的学习工具，专为编程自学提供的书籍，这里也有友好的环境氛围，再“小白”的问题都可以得到耐心的解答。没有编程基础的你，能够在这里学会编程，打开新世界的大门吧！"
   ]
  },
  {
   "cell_type": "markdown",
   "metadata": {},
   "source": [
    "### 编程真的可以全靠自学吗？\n",
    "<a id='q27'></a>"
   ]
  },
  {
   "cell_type": "markdown",
   "metadata": {},
   "source": [
    "自学是一种很高效的学习方式，可以自己掌握学习进度，自行安排学习时间，阅读也比看教学视频接收的信息更全面，XUE.cn 的大量用户已经亲身体会到了自学的好处。所以，你也可以自学编程，就从《自学是门手艺》开始吧。"
   ]
  },
  {
   "cell_type": "markdown",
   "metadata": {},
   "source": [
    "注：《自学是门手艺》第 4 章就有很多自学成功者的自述故事，或许对你有所帮助。"
   ]
  },
  {
   "cell_type": "markdown",
   "metadata": {},
   "source": [
    "### 未来会有更多学习内容吗？\n",
    "<a id='q29'></a>"
   ]
  },
  {
   "cell_type": "markdown",
   "metadata": {},
   "source": [
    "会有更多。"
   ]
  },
  {
   "cell_type": "markdown",
   "metadata": {},
   "source": [
    "Read，Practice，Build。学习编程除了能学到新的思维模式，同学们应该更希望能够在实际生活中用到这项技能。数据分析、数据呈现、区块链 DAPP，很多领域的知识都会用到编程技能，因此 XUE.cn 也会提供更多领域的学习内容。用户可以一边学编程，一边学编程的应用，用来解决实际问题。"
   ]
  },
  {
   "cell_type": "markdown",
   "metadata": {},
   "source": [
    "### 未来会有其它编程语言的学习内容吗？\n",
    "<a id='q30'></a>"
   ]
  },
  {
   "cell_type": "markdown",
   "metadata": {},
   "source": [
    "未来会有更多的编程语言学习内容。Ruby、C 等等。编程的世界非常广阔。"
   ]
  },
  {
   "cell_type": "markdown",
   "metadata": {},
   "source": [
    "而现阶段，XUE.cn 推荐 Python。Python 是一款很适合业余编程学习者的语言，它有着强大的社区支持，丰富的库函数，语言本身简单直接，贴近自然语言。XUE.cn 鼓励业余新手程序员从 Python 开始。"
   ]
  },
  {
   "cell_type": "markdown",
   "metadata": {},
   "source": [
    "当然，我们也上线了 Go、Java 等语言的编程书籍。"
   ]
  },
  {
   "cell_type": "markdown",
   "metadata": {},
   "source": [
    "**相关问题**：[XUE.cn 会增加其他编程语言的教程以及其他方面的新内容吗](平台使用相关.ipynb?anchor=q11)"
   ]
  }
 ],
 "metadata": {
  "kernelspec": {
   "display_name": "Python 3",
   "language": "python",
   "name": "python3"
  },
  "language_info": {
   "codemirror_mode": {
    "name": "ipython",
    "version": 3
   },
   "file_extension": ".py",
   "mimetype": "text/x-python",
   "name": "python",
   "nbconvert_exporter": "python",
   "pygments_lexer": "ipython3",
   "version": "3.7.4"
  }
 },
 "nbformat": 4,
 "nbformat_minor": 2
}