{
 "cells": [
  {
   "cell_type": "markdown",
   "metadata": {},
   "source": [
    "## 学习相关"
   ]
  },
  {
   "cell_type": "markdown",
   "metadata": {},
   "source": [
    "### 我没有任何编程基础，能在 xue.cn 上学会编程吗？\n",
    "<a id='q28'></a>"
   ]
  },
  {
   "cell_type": "markdown",
   "metadata": {},
   "source": [
    "无论您是零基础、尚未开始学编程，还是已有一点基础、想要进一步提升编程技能，XUE.cn 都是您的极佳选择。"
   ]
  },
  {
   "cell_type": "markdown",
   "metadata": {},
   "source": [
    "如果需要唤醒自己的信心，立即开始阅读[《自学是门手艺》](https://xue.cn/hub/app/books/1)之[“为什么一定要掌握自学能力？”](https://xue.cn/hub/reader?bookId=1&path=the-craft-of-selfteaching/Part.1.A.better.teachyourself.ipynb) 是个不错的选择，此书极度适合编程入门、也适合编程之路上反复需要的心理建设。"
   ]
  },
  {
   "cell_type": "markdown",
   "metadata": {},
   "source": [
    "以下为本书节选："
   ]
  },
  {
   "cell_type": "markdown",
   "metadata": {},
   "source": [
    ">事实证明，编程就是无论是谁都能学会的 —— 千万别不信。"
   ]
  },
  {
   "cell_type": "markdown",
   "metadata": {},
   "source": [
    "> 它老少皆宜 —— 也就是说，“只要你愿意”，根本没有年龄差异。十二岁的孩子可以学；十八岁的大学生可以学；在职工作人员可以学…… 就算你已经退休了，想学就能学，谁也拦不住你。"
   ]
  },
  {
   "cell_type": "markdown",
   "metadata": {},
   "source": [
    "> 它也不分性别，男性可以学，女性同样可以学，性别差异在这里完全不存在。"
   ]
  },
  {
   "cell_type": "markdown",
   "metadata": {},
   "source": [
    "> 它也不分国界，更没有区域差异 —— 互联网的恩惠在于，你在北京、纽约也好，老头沟、门头沟也罢，在这个领域里同样完全没有任何具体差异。"
   ]
  },
  {
   "cell_type": "markdown",
   "metadata": {},
   "source": [
    "> 尤其是在中国。现状是，中国的人口密度极高，优质教育资源的确就是稀缺…… 但在计算机科学领域，所有的所谓 “优质教育资源” 事实上完全没有任何独特的竞争力 —— 编程领域，实际上是当今世上极为罕见的 “教育机会公平之地”。又不仅在中国如此，事实上，在全球范围内也都是如此。"
   ]
  },
  {
   "cell_type": "markdown",
   "metadata": {},
   "source": [
    " xue.cn 正在持续帮助大量用户通过自学掌握编程这项技能。"
   ]
  },
  {
   "cell_type": "markdown",
   "metadata": {},
   "source": [
    "### 编程真的可以全靠自学吗？\n",
    "<a id='q27'></a>"
   ]
  },
  {
   "cell_type": "markdown",
   "metadata": {},
   "source": [
    "自学是一种很高效的学习方式，可以自己掌握学习进度，自行安排学习时间，阅读也比看教学视频接收的信息更全面，XUE.cn 的大量用户已经亲身体会到了自学的好处。[《自学是门手艺》](https://xue.cn/hub/app/books/1)这本书就是讲述，如何通过自学来掌握编程技能的。第 4 章有很多[自学成功者的自述故事](https://xue.cn/hub/reader?bookId=1&path=the-craft-of-selfteaching/Part.4.A.reader_junhong.ipynb)，将带给你更多鼓舞。"
   ]
  },
  {
   "cell_type": "markdown",
   "metadata": {},
   "source": [
    "### 未来会有更多学习内容吗？\n",
    "<a id='q29'></a>"
   ]
  },
  {
   "cell_type": "markdown",
   "metadata": {},
   "source": [
    "会有更多。"
   ]
  },
  {
   "cell_type": "markdown",
   "metadata": {},
   "source": [
    "Read，Practice，Build。学习编程除了能学到新的思维模式，同学们应该更希望能够在实际生活中用到这项技能。数据分析、数据呈现、区块链 DAPP，很多领域的知识都会用到编程技能，因此 XUE.cn 也会提供更多领域的学习内容。用户可以一边学编程，一边学编程的应用，用来解决实际问题。"
   ]
  },
  {
   "cell_type": "markdown",
   "metadata": {},
   "source": [
    "### 未来会有其它编程语言的学习内容吗？\n",
    "<a id='q30'></a>"
   ]
  },
  {
   "cell_type": "markdown",
   "metadata": {},
   "source": [
    "xue.cn 目前已上架 60 余本书，涵盖 Python、JavaScript、NodeJS、Jave、Go、Markdown 等编程语言。"
   ]
  },
  {
   "cell_type": "markdown",
   "metadata": {},
   "source": [
    "对于初学编程者，我们推荐 Python，它有着强大的社区支持，丰富的库函数，语言本身简单直接，贴近自然语言。"
   ]
  },
  {
   "cell_type": "markdown",
   "metadata": {},
   "source": [
    "如果您希望 xue.cn 增强哪个编程语言的相关书籍或习题，欢迎联系工作人员（微信号 xue_oneone 或 cgq144）推荐。"
   ]
  },
  {
   "cell_type": "markdown",
   "metadata": {},
   "source": [
    "**相关问题**：[XUE.cn 会增加其他编程语言的教程以及其他方面的新内容吗？](平台使用相关.ipynb?anchor=q11)"
   ]
  }
 ],
 "metadata": {
  "kernelspec": {
   "display_name": "Python 3",
   "language": "python",
   "name": "python3"
  },
  "language_info": {
   "codemirror_mode": {
    "name": "ipython",
    "version": 3
   },
   "file_extension": ".py",
   "mimetype": "text/x-python",
   "name": "python",
   "nbconvert_exporter": "python",
   "pygments_lexer": "ipython3",
   "version": "3.7.4"
  }
 },
 "nbformat": 4,
 "nbformat_minor": 2
}