{
 "cells": [
  {
   "cell_type": "markdown",
   "metadata": {},
   "source": [
    "## 8. 异常排查"
   ]
  },
  {
   "cell_type": "markdown",
   "metadata": {},
   "source": [
    "### XUE.cn 网页打不开或者打开很慢怎么办？\n",
    "<a id='q6'></a>"
   ]
  },
  {
   "cell_type": "markdown",
   "metadata": {},
   "source": [
    "XUE.cn 的阅读器是一个基于 Jupyter Lab 的云端学习环境，第一次的加载时间可能会持续一分钟，还请耐心等待。"
   ]
  },
  {
   "cell_type": "markdown",
   "metadata": {},
   "source": [
    "如果还是打不开网页，请按以下步骤操作："
   ]
  },
  {
   "cell_type": "markdown",
   "metadata": {},
   "source": [
    "▷ XUE.cn 服务器布置在国内，可以尝试关闭代理设置；"
   ]
  },
  {
   "cell_type": "markdown",
   "metadata": {},
   "source": [
    "▷ 刷新页面，如果刷新页面没有改善，可以尝试退出后重新登录；"
   ]
  },
  {
   "cell_type": "markdown",
   "metadata": {},
   "source": [
    "▷ 清理浏览器缓存或更换浏览器登录，我们比较推荐 Chrome 浏览器；"
   ]
  },
  {
   "cell_type": "markdown",
   "metadata": {},
   "source": [
    "▷ 如果上述方法都不能解决您的问题，请联系工作人员（微信号 xue_oneone 或 cgq144），我们会在第一时间解决您的问题。"
   ]
  },
  {
   "cell_type": "markdown",
   "metadata": {},
   "source": [
    "**相关问题**：[为什么书籍加载到 95% 卡住了？](#q36)"
   ]
  },
  {
   "cell_type": "markdown",
   "metadata": {},
   "source": [
    "### 我几天没有上线，学习时长（unit）变少了，是 bug 吗？\n",
    "<a id='q12'></a>"
   ]
  },
  {
   "cell_type": "markdown",
   "metadata": {},
   "source": [
    "这不是 bug，而是设计如此。"
   ]
  },
  {
   "cell_type": "markdown",
   "metadata": {},
   "source": [
    "一旦您获得学习时长（unit，简写 u），就会自动开启 XUE.cn 的付费服务，系统将阅读容器服务、计算资源等分配给您，直到您的学习时长耗尽。"
   ]
  },
  {
   "cell_type": "markdown",
   "metadata": {},
   "source": [
    "建议您一旦决定开始学习，就持续学习下去，让每天所消耗的学习时长被自己充分使用。"
   ]
  },
  {
   "cell_type": "markdown",
   "metadata": {},
   "source": [
    "### 运行代码后提示 “代码执行失败”，怎么办？\n",
    "<a id='q35'></a>"
   ]
  },
  {
   "cell_type": "markdown",
   "metadata": {},
   "source": [
    "排除了网络连接不畅的情况下，可以点击阅读器上方的‘重启阅读器’按键。出现代码执行异常的时候，重启该阅读器基本都可以解决问题。"
   ]
  },
  {
   "cell_type": "markdown",
   "metadata": {},
   "source": [
    "如若上述方式都不能解决问题，可以联系工作人员（微信号 xue_oneone 或 cgq144）反馈。"
   ]
  },
  {
   "cell_type": "markdown",
   "metadata": {},
   "source": [
    "### 为什么书籍加载到 95% 卡住了？\n",
    "<a id='q36'></a>"
   ]
  },
  {
   "cell_type": "markdown",
   "metadata": {},
   "source": [
    "XUE.cn 的阅读器是一个基于 Jupyter Lab 的云端学习环境，部分超大章节的加载可能稍慢，请耐心等待。"
   ]
  },
  {
   "cell_type": "markdown",
   "metadata": {},
   "source": [
    "如果几分钟后您依然打不开网页，请按以下步骤操作："
   ]
  },
  {
   "cell_type": "markdown",
   "metadata": {},
   "source": [
    "▷ XUE.cn 服务器布置在国内，可以尝试关闭代理设置；"
   ]
  },
  {
   "cell_type": "markdown",
   "metadata": {},
   "source": [
    "▷ 刷新页面，如果刷新页面没有改善，可以尝试退出后重新登录；"
   ]
  },
  {
   "cell_type": "markdown",
   "metadata": {},
   "source": [
    "▷ 清理浏览器缓存或更换浏览器登录，我们比较推荐 Chrome 浏览器；"
   ]
  },
  {
   "cell_type": "markdown",
   "metadata": {},
   "source": [
    "▷ 如果上述方法都不能解决您的问题，可以联系工作人员（微信号 xue_oneone 或 cgq144），我们会在第一时间帮助您解决问题。"
   ]
  },
  {
   "cell_type": "markdown",
   "metadata": {},
   "source": [
    "**相关问题**：[XUE.cn 网页打不开或者打开很慢怎么办？](#q6)"
   ]
  },
  {
   "cell_type": "markdown",
   "metadata": {},
   "source": [
    "### 习题做完怎么运行呢或运行后怎么没有结果呢？\n",
    "<a id='q40'></a>"
   ]
  },
  {
   "cell_type": "markdown",
   "metadata": {},
   "source": [
    "习题做完点击”习题”下面的“运行”按键运行代码，如果运行没有结果，可以按照下述步骤操作："
   ]
  },
  {
   "cell_type": "markdown",
   "metadata": {},
   "source": [
    "▷ 先点一下习题下面的 “停止” 按键，再点 “运行” 按键；"
   ]
  },
  {
   "cell_type": "markdown",
   "metadata": {},
   "source": [
    "▷ 检查编写的代码本身是否就无法输出运行结果（没写 print()等）；"
   ]
  },
  {
   "cell_type": "markdown",
   "metadata": {},
   "source": [
    "▷ 刷新页面后或点击页面上方的‘重启阅读器”按键后再次运行习题中的代码；"
   ]
  },
  {
   "cell_type": "markdown",
   "metadata": {},
   "source": [
    "▷ 如果上述方法都不能解决您的问题，可以加入学习群，询问工作人员（微信号 xue_oneone 或 cgq144）。"
   ]
  },
  {
   "cell_type": "markdown",
   "metadata": {},
   "source": [
    "**相关问题**：[运行代码后提示 “代码执行失败”，怎么办？](#q35)"
   ]
  }
 ],
 "metadata": {
  "kernelspec": {
   "display_name": "Python 3",
   "language": "python",
   "name": "python3"
  },
  "language_info": {
   "codemirror_mode": {
    "name": "ipython",
    "version": 3
   },
   "file_extension": ".py",
   "mimetype": "text/x-python",
   "name": "python",
   "nbconvert_exporter": "python",
   "pygments_lexer": "ipython3",
   "version": "3.7.3"
  }
 },
 "nbformat": 4,
 "nbformat_minor": 2
}